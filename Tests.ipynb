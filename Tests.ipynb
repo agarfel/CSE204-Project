{
 "cells": [
  {
   "cell_type": "code",
   "execution_count": 13,
   "id": "f451efea-5957-473d-8f92-b97c20affb03",
   "metadata": {},
   "outputs": [],
   "source": [
    "import numpy as np\n",
    "import random\n",
    "\n",
    "import build\n",
    "import alphabetical"
   ]
  },
  {
   "cell_type": "code",
   "execution_count": 14,
   "id": "e386f05b-22c2-4e74-b1dd-9be2d162b221",
   "metadata": {},
   "outputs": [],
   "source": [
    "# TEST ALPHANUMERICAL\n",
    "\n",
    "\n",
    "df = build.load_data('output.csv')\n",
    "alphabetical.sort_dataframe(df)\n",
    "alphas = alphabetical.get_alpha_dict(df)\n",
    "i = 0\n",
    "for _ in range(10):\n",
    "    n = random.randint(0,len(df)-1)\n",
    "    s = df.iloc[n]\n",
    "    if alphabetical.get_index_song(s['title'],  s['artist_name'],s['release'],df,alphas) != n:\n",
    "        i+=1\n",
    "        print(alphabetical.get_index_song(s['title'], s['artist_name'],s['release'],df,alphas), n)\n",
    "        print(s['title'])\n"
   ]
  },
  {
   "cell_type": "code",
   "execution_count": null,
   "id": "dca0e3d5-52a7-4990-898c-d83883070f78",
   "metadata": {},
   "outputs": [],
   "source": []
  }
 ],
 "metadata": {
  "kernelspec": {
   "display_name": "Python 3 (ipykernel)",
   "language": "python",
   "name": "python3"
  },
  "language_info": {
   "codemirror_mode": {
    "name": "ipython",
    "version": 3
   },
   "file_extension": ".py",
   "mimetype": "text/x-python",
   "name": "python",
   "nbconvert_exporter": "python",
   "pygments_lexer": "ipython3",
   "version": "3.11.3"
  }
 },
 "nbformat": 4,
 "nbformat_minor": 5
}
