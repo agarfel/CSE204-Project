{
 "cells": [
  {
   "cell_type": "markdown",
   "id": "af118e80-cd1c-488b-be7f-f617930d99d3",
   "metadata": {},
   "source": [
    "# Song recommender project #"
   ]
  },
  {
   "cell_type": "markdown",
   "id": "c3b0d1a7-a4ca-4666-8fbf-bce10fef4535",
   "metadata": {},
   "source": [
    " Garcinuño Feliciano Angela <br>\n",
    " Huima Klaara <br>\n",
    " Massot Lucas "
   ]
  },
  {
   "cell_type": "code",
   "execution_count": 1,
   "id": "810f783f-37c8-4753-b852-1a7c7e77ceb8",
   "metadata": {},
   "outputs": [],
   "source": [
    "import pandas as pd\n",
    "import numpy as np\n",
    "import build\n",
    "import random"
   ]
  },
  {
   "cell_type": "code",
   "execution_count": 2,
   "id": "a7204141-4b47-4a3f-b22f-0489b90dd013",
   "metadata": {
    "scrolled": true
   },
   "outputs": [],
   "source": [
    "data = build.load_data('output.csv')"
   ]
  },
  {
   "cell_type": "code",
   "execution_count": 3,
   "id": "9c912935-b306-4d7d-bd97-077b3702d2a8",
   "metadata": {},
   "outputs": [],
   "source": [
    "def recommend(song_list: list, df: pd.core.frame.DataFrame, k: int, distance_matrix = None):\n",
    "    playlist, indexes = build.format_input(song_list, df)\n",
    "    if isinstance(distance_matrix, type(None)):\n",
    "        distances, total_d = build.compute_distance_to_playlist(playlist, indexes, df)\n",
    "    else:\n",
    "        distances, total_d = build.select_distance_to_playlist(playlist, indexes, distance_matrix)        \n",
    "    #display(pd.DataFrame(distances))\n",
    "    output_df = build.get_k_recommendations(total_d, k, df)\n",
    "    display(output_df)"
   ]
  },
  {
   "cell_type": "code",
   "execution_count": 5,
   "id": "b9bb301a-aaf0-4e68-994c-4faaaf21b992",
   "metadata": {},
   "outputs": [
    {
     "data": {
      "text/html": [
       "<div>\n",
       "<style scoped>\n",
       "    .dataframe tbody tr th:only-of-type {\n",
       "        vertical-align: middle;\n",
       "    }\n",
       "\n",
       "    .dataframe tbody tr th {\n",
       "        vertical-align: top;\n",
       "    }\n",
       "\n",
       "    .dataframe thead th {\n",
       "        text-align: right;\n",
       "    }\n",
       "</style>\n",
       "<table border=\"1\" class=\"dataframe\">\n",
       "  <thead>\n",
       "    <tr style=\"text-align: right;\">\n",
       "      <th></th>\n",
       "      <th>artist_name</th>\n",
       "      <th>title</th>\n",
       "      <th>release</th>\n",
       "      <th>total distance</th>\n",
       "    </tr>\n",
       "  </thead>\n",
       "  <tbody>\n",
       "    <tr>\n",
       "      <th>9579</th>\n",
       "      <td>Harry Gregson-Williams</td>\n",
       "      <td>Whip Fight</td>\n",
       "      <td>Rundown/Welcome To The Jungle</td>\n",
       "      <td>-340.118617</td>\n",
       "    </tr>\n",
       "    <tr>\n",
       "      <th>7126</th>\n",
       "      <td>Nick Ingman</td>\n",
       "      <td>Sangha the Outcast</td>\n",
       "      <td>Two Brothers</td>\n",
       "      <td>-327.752430</td>\n",
       "    </tr>\n",
       "    <tr>\n",
       "      <th>7255</th>\n",
       "      <td>Arc Angels</td>\n",
       "      <td>Sent By Angels</td>\n",
       "      <td>Arc Angels</td>\n",
       "      <td>-340.641311</td>\n",
       "    </tr>\n",
       "    <tr>\n",
       "      <th>5234</th>\n",
       "      <td>Chorus Line</td>\n",
       "      <td>Mamma pettenami</td>\n",
       "      <td>Coro montenero</td>\n",
       "      <td>-340.239312</td>\n",
       "    </tr>\n",
       "    <tr>\n",
       "      <th>7712</th>\n",
       "      <td>Toots Thielemans</td>\n",
       "      <td>Sophisticated Lady</td>\n",
       "      <td>Only Trust Your Heart</td>\n",
       "      <td>-325.450231</td>\n",
       "    </tr>\n",
       "    <tr>\n",
       "      <th>431</th>\n",
       "      <td>Paul Rodgers</td>\n",
       "      <td>Alright Now</td>\n",
       "      <td>Alright Now</td>\n",
       "      <td>-327.232613</td>\n",
       "    </tr>\n",
       "    <tr>\n",
       "      <th>2008</th>\n",
       "      <td>Van Halen</td>\n",
       "      <td>Dirty Movies\" (Album Version)</td>\n",
       "      <td>Fair Warning</td>\n",
       "      <td>-327.769679</td>\n",
       "    </tr>\n",
       "    <tr>\n",
       "      <th>6108</th>\n",
       "      <td>Shelby Lynne</td>\n",
       "      <td>Old Times Sake</td>\n",
       "      <td>Suit Yourself</td>\n",
       "      <td>-340.911917</td>\n",
       "    </tr>\n",
       "    <tr>\n",
       "      <th>4161</th>\n",
       "      <td>Maria Muldaur</td>\n",
       "      <td>It Ain't The Meat It's The Motion (LP Version)</td>\n",
       "      <td>Waitress In A Donut Shop</td>\n",
       "      <td>-335.916551</td>\n",
       "    </tr>\n",
       "    <tr>\n",
       "      <th>9578</th>\n",
       "      <td>DJ Slugo</td>\n",
       "      <td>Where the Rats 3</td>\n",
       "      <td>Jukin 4 the Haters Vol.2</td>\n",
       "      <td>-325.902601</td>\n",
       "    </tr>\n",
       "  </tbody>\n",
       "</table>\n",
       "</div>"
      ],
      "text/plain": [
       "                 artist_name                                           title  \\\n",
       "9579  Harry Gregson-Williams                                      Whip Fight   \n",
       "7126             Nick Ingman                              Sangha the Outcast   \n",
       "7255              Arc Angels                                  Sent By Angels   \n",
       "5234             Chorus Line                                 Mamma pettenami   \n",
       "7712        Toots Thielemans                              Sophisticated Lady   \n",
       "431             Paul Rodgers                                     Alright Now   \n",
       "2008               Van Halen                   Dirty Movies\" (Album Version)   \n",
       "6108            Shelby Lynne                                  Old Times Sake   \n",
       "4161           Maria Muldaur  It Ain't The Meat It's The Motion (LP Version)   \n",
       "9578                DJ Slugo                                Where the Rats 3   \n",
       "\n",
       "                            release  total distance  \n",
       "9579  Rundown/Welcome To The Jungle     -340.118617  \n",
       "7126                   Two Brothers     -327.752430  \n",
       "7255                     Arc Angels     -340.641311  \n",
       "5234                 Coro montenero     -340.239312  \n",
       "7712          Only Trust Your Heart     -325.450231  \n",
       "431                     Alright Now     -327.232613  \n",
       "2008                   Fair Warning     -327.769679  \n",
       "6108                  Suit Yourself     -340.911917  \n",
       "4161       Waitress In A Donut Shop     -335.916551  \n",
       "9578       Jukin 4 the Haters Vol.2     -325.902601  "
      ]
     },
     "metadata": {},
     "output_type": "display_data"
    }
   ],
   "source": [
    "# TEST\n",
    "n = 100\n",
    "#input = [[str(data.iloc[j]['title']), str(data.iloc[j]['artist_name'])] for j in random.sample(range(len(data)), n)]   # input of song titles\n",
    "input = [[str(data.iloc[i]['title']), str(data.iloc[i]['artist_name'])] for i in range(n)]\n",
    "k = 10 #number of song recomendations\n",
    "\n",
    "\n",
    "# Computing complete distance matrix\n",
    "\n",
    "#distance_matrix = pd.DataFrame(build.build_distances(data))\n",
    "#recommend(input, data, k, distance_matrix)\n",
    "\n",
    "\n",
    "# Computing only distance to playlist\n",
    "recommend(input, data.copy(), k)"
   ]
  },
  {
   "cell_type": "code",
   "execution_count": null,
   "id": "49260920-4fb3-4b93-8a6c-ccd80e2480b1",
   "metadata": {},
   "outputs": [],
   "source": []
  }
 ],
 "metadata": {
  "kernelspec": {
   "display_name": "Python 3 (ipykernel)",
   "language": "python",
   "name": "python3"
  },
  "language_info": {
   "codemirror_mode": {
    "name": "ipython",
    "version": 3
   },
   "file_extension": ".py",
   "mimetype": "text/x-python",
   "name": "python",
   "nbconvert_exporter": "python",
   "pygments_lexer": "ipython3",
   "version": "3.11.3"
  }
 },
 "nbformat": 4,
 "nbformat_minor": 5
}
