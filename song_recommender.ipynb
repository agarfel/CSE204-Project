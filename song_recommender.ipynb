{
 "cells": [
  {
   "cell_type": "markdown",
   "id": "af118e80-cd1c-488b-be7f-f617930d99d3",
   "metadata": {},
   "source": [
    "# Song recommender project #"
   ]
  },
  {
   "cell_type": "markdown",
   "id": "c3b0d1a7-a4ca-4666-8fbf-bce10fef4535",
   "metadata": {},
   "source": [
    " Garcinuño Feliciano Angela <br>\n",
    " Huima Klaara <br>\n",
    " Massot Lucas "
   ]
  },
  {
   "cell_type": "code",
   "execution_count": 22,
   "id": "810f783f-37c8-4753-b852-1a7c7e77ceb8",
   "metadata": {},
   "outputs": [],
   "source": [
    "import pandas as pd\n",
    "import numpy as np\n",
    "import build\n",
    "import random\n",
    "import buildEncoder"
   ]
  },
  {
   "cell_type": "code",
   "execution_count": 23,
   "id": "a7204141-4b47-4a3f-b22f-0489b90dd013",
   "metadata": {
    "scrolled": true
   },
   "outputs": [],
   "source": [
    "df, term_index = buildEncoder.load_data('output.csv')"
   ]
  },
  {
   "cell_type": "code",
   "execution_count": null,
   "id": "1b73e3c4-257e-4635-b409-e5b631fa470e",
   "metadata": {},
   "outputs": [],
   "source": []
  },
  {
   "cell_type": "code",
   "execution_count": 24,
   "id": "9c912935-b306-4d7d-bd97-077b3702d2a8",
   "metadata": {},
   "outputs": [],
   "source": [
    "def recommend(song_list: list, df: pd.core.frame.DataFrame, k: int, encoder, term_index, hot_data, distance_matrix = None):\n",
    "    #print(song_list)\n",
    "    playlist, indexes = buildEncoder.format_input(song_list, df)\n",
    "    print(\"input formatted\")\n",
    "    if isinstance(distance_matrix, type(None)):\n",
    "        distances, total_d = buildEncoder.compute_distance_to_playlist(playlist, indexes, hot_data, encoder)\n",
    "    else:\n",
    "        print(\"computing distances to playlist...\")\n",
    "        distances, total_d = buildEncoder.select_distance_to_playlist(playlist, indexes, distance_matrix)    \n",
    "    print(\"distances computed\")\n",
    "    display(pd.DataFrame(distances))\n",
    "    output_df = buildEncoder.get_k_recommendations(total_d, k, df)\n",
    "    print(\"received recommendations\")\n",
    "    display(output_df)\n",
    "    return distances"
   ]
  },
  {
   "cell_type": "code",
   "execution_count": 25,
   "id": "4f9c327a-5231-4cb7-821f-0ffa04013c70",
   "metadata": {},
   "outputs": [
    {
     "name": "stdout",
     "output_type": "stream",
     "text": [
      "Epoch 1/10\n",
      "313/313 [==============================] - 1s 1ms/step - loss: 0.0057\n",
      "Epoch 2/10\n",
      "313/313 [==============================] - 0s 1ms/step - loss: 0.0037\n",
      "Epoch 3/10\n",
      "313/313 [==============================] - 0s 972us/step - loss: 0.0031\n",
      "Epoch 4/10\n",
      "313/313 [==============================] - 0s 1ms/step - loss: 0.0027\n",
      "Epoch 5/10\n",
      "313/313 [==============================] - 0s 927us/step - loss: 0.0025\n",
      "Epoch 6/10\n",
      "313/313 [==============================] - 0s 1ms/step - loss: 0.0023\n",
      "Epoch 7/10\n",
      "313/313 [==============================] - 0s 958us/step - loss: 0.0022\n",
      "Epoch 8/10\n",
      "313/313 [==============================] - 0s 886us/step - loss: 0.0020\n",
      "Epoch 9/10\n",
      "313/313 [==============================] - 1s 2ms/step - loss: 0.0020\n",
      "Epoch 10/10\n",
      "313/313 [==============================] - 1s 3ms/step - loss: 0.0019\n"
     ]
    },
    {
     "data": {
      "text/plain": [
       "'\\nplaylists = []\\nindexes = []\\nfor i in range(10):\\n    index = [i*1000 + j for j in range(1000)]\\n    playlist = [hot_data[i*1000 + j] for j in range(1000)]\\n    playlists.append(playlist)\\n    indexes.append(index)\\n'"
      ]
     },
     "execution_count": 25,
     "metadata": {},
     "output_type": "execute_result"
    }
   ],
   "source": [
    "hot_data, encoder = buildEncoder.build_encoder(df, term_index, tuning = False)\n",
    "\n",
    "\"\"\"\n",
    "playlists = []\n",
    "indexes = []\n",
    "for i in range(10):\n",
    "    index = [i*1000 + j for j in range(1000)]\n",
    "    playlist = [hot_data[i*1000 + j] for j in range(1000)]\n",
    "    playlists.append(playlist)\n",
    "    indexes.append(index)\n",
    "\"\"\""
   ]
  },
  {
   "cell_type": "code",
   "execution_count": null,
   "id": "8be1a9d3-c3b7-4ad5-b290-83fa17379362",
   "metadata": {},
   "outputs": [],
   "source": [
    "buildEncoder.build_batches(playlists[0], indexes[0], hot_data, encoder, 'output1.csv')"
   ]
  },
  {
   "cell_type": "code",
   "execution_count": null,
   "id": "c94346fb-9360-434d-ac9e-4551ccee590b",
   "metadata": {},
   "outputs": [],
   "source": [
    "buildEncoder.build_batches(playlists[1], indexes[1], hot_data, encoder, 'output1.csv')"
   ]
  },
  {
   "cell_type": "code",
   "execution_count": null,
   "id": "8a2db606-fef1-4a7c-b7af-c1ee26d83755",
   "metadata": {},
   "outputs": [],
   "source": [
    "buildEncoder.build_batches(playlists[2], indexes[2], hot_data, encoder, 'output1.csv')"
   ]
  },
  {
   "cell_type": "code",
   "execution_count": null,
   "id": "0b4aa436-e9bb-4c36-901f-e405731dee67",
   "metadata": {},
   "outputs": [],
   "source": [
    "buildEncoder.build_batches(playlists[3], indexes[3], hot_data, encoder, 'output1.csv')"
   ]
  },
  {
   "cell_type": "code",
   "execution_count": null,
   "id": "f5b2cb5e-05c1-40b8-94fa-f6a4386bc4ea",
   "metadata": {},
   "outputs": [],
   "source": [
    "buildEncoder.build_batches(playlists[4], indexes[4], hot_data, encoder, 'output1.csv')"
   ]
  },
  {
   "cell_type": "code",
   "execution_count": null,
   "id": "860ced3e-ebbe-4b75-85dc-273ef06316c5",
   "metadata": {},
   "outputs": [],
   "source": [
    "buildEncoder.build_batches(playlists[5], indexes[5], hot_data, encoder, 'output1.csv')"
   ]
  },
  {
   "cell_type": "code",
   "execution_count": null,
   "id": "c43a8746-613a-4894-bd66-e0fb1d06f4e7",
   "metadata": {},
   "outputs": [],
   "source": [
    "buildEncoder.build_batches(playlists[6], indexes[6], hot_data, encoder, 'output1.csv')"
   ]
  },
  {
   "cell_type": "code",
   "execution_count": null,
   "id": "3f662413-f020-4ba5-ba16-77c22bf524e2",
   "metadata": {},
   "outputs": [],
   "source": [
    "buildEncoder.build_batches(playlists[7], indexes[7], hot_data, encoder, 'output1.csv')"
   ]
  },
  {
   "cell_type": "code",
   "execution_count": null,
   "id": "5ee48fc1-819c-4000-b9db-b4d5f739cac5",
   "metadata": {},
   "outputs": [],
   "source": [
    "buildEncoder.build_batches(playlists[8], indexes[8], hot_data, encoder, 'output1.csv')"
   ]
  },
  {
   "cell_type": "code",
   "execution_count": null,
   "id": "62d09d24-416e-4143-a212-b7e81365d9db",
   "metadata": {},
   "outputs": [],
   "source": [
    "buildEncoder.build_batches(playlists[9], indexes[9], hot_data, encoder, 'output1.csv')"
   ]
  },
  {
   "cell_type": "code",
   "execution_count": null,
   "id": "f7657b87-53be-4d56-b59f-bddf7854efa4",
   "metadata": {},
   "outputs": [
    {
     "data": {
      "text/html": [
       "<div>\n",
       "<style scoped>\n",
       "    .dataframe tbody tr th:only-of-type {\n",
       "        vertical-align: middle;\n",
       "    }\n",
       "\n",
       "    .dataframe tbody tr th {\n",
       "        vertical-align: top;\n",
       "    }\n",
       "\n",
       "    .dataframe thead th {\n",
       "        text-align: right;\n",
       "    }\n",
       "</style>\n",
       "<table border=\"1\" class=\"dataframe\">\n",
       "  <thead>\n",
       "    <tr style=\"text-align: right;\">\n",
       "      <th></th>\n",
       "      <th>0</th>\n",
       "      <th>1</th>\n",
       "      <th>2</th>\n",
       "    </tr>\n",
       "  </thead>\n",
       "  <tbody>\n",
       "    <tr>\n",
       "      <th>0</th>\n",
       "      <td>Hermitage</td>\n",
       "      <td>Pat Metheny</td>\n",
       "      <td>New Chautauqua</td>\n",
       "    </tr>\n",
       "    <tr>\n",
       "      <th>1</th>\n",
       "      <td>Rosalita (Come Out Tonight)</td>\n",
       "      <td>Bruce Springsteen</td>\n",
       "      <td>Hammersmith Odeon_ London '75</td>\n",
       "    </tr>\n",
       "    <tr>\n",
       "      <th>2</th>\n",
       "      <td>Working On The Highway</td>\n",
       "      <td>Bruce Springsteen</td>\n",
       "      <td>Born In The U.S.A.</td>\n",
       "    </tr>\n",
       "    <tr>\n",
       "      <th>3</th>\n",
       "      <td>Letter from Home</td>\n",
       "      <td>Pat Metheny</td>\n",
       "      <td>Upojenie</td>\n",
       "    </tr>\n",
       "    <tr>\n",
       "      <th>4</th>\n",
       "      <td>Message To A Friend</td>\n",
       "      <td>Pat Metheny / Charlie Haden</td>\n",
       "      <td>Beyond The Missouri Sky</td>\n",
       "    </tr>\n",
       "    <tr>\n",
       "      <th>5</th>\n",
       "      <td>She Fell Away (2009 Digital Remaster)</td>\n",
       "      <td>Nick Cave &amp; The Bad Seeds</td>\n",
       "      <td>Your Funeral... My Trial (2009 Digital Remaster)</td>\n",
       "    </tr>\n",
       "    <tr>\n",
       "      <th>6</th>\n",
       "      <td>The Hammer Song (2010 Digital Remaster)</td>\n",
       "      <td>Nick Cave &amp; The Bad Seeds</td>\n",
       "      <td>The Good Son (2010 Digital Remaster)</td>\n",
       "    </tr>\n",
       "    <tr>\n",
       "      <th>7</th>\n",
       "      <td>Rock Of Gibraltar</td>\n",
       "      <td>Nick Cave &amp; The Bad Seeds</td>\n",
       "      <td>Nocturama</td>\n",
       "    </tr>\n",
       "    <tr>\n",
       "      <th>8</th>\n",
       "      <td>So Lonely</td>\n",
       "      <td>The Police</td>\n",
       "      <td>So Lonely</td>\n",
       "    </tr>\n",
       "    <tr>\n",
       "      <th>9</th>\n",
       "      <td>Wrapped Around Your Finger</td>\n",
       "      <td>The Police</td>\n",
       "      <td>Message In A Box</td>\n",
       "    </tr>\n",
       "  </tbody>\n",
       "</table>\n",
       "</div>"
      ],
      "text/plain": [
       "                                         0                            1  \\\n",
       "0                                Hermitage                  Pat Metheny   \n",
       "1              Rosalita (Come Out Tonight)            Bruce Springsteen   \n",
       "2                   Working On The Highway            Bruce Springsteen   \n",
       "3                         Letter from Home                  Pat Metheny   \n",
       "4                      Message To A Friend  Pat Metheny / Charlie Haden   \n",
       "5    She Fell Away (2009 Digital Remaster)    Nick Cave & The Bad Seeds   \n",
       "6  The Hammer Song (2010 Digital Remaster)    Nick Cave & The Bad Seeds   \n",
       "7                        Rock Of Gibraltar    Nick Cave & The Bad Seeds   \n",
       "8                                So Lonely                   The Police   \n",
       "9               Wrapped Around Your Finger                   The Police   \n",
       "\n",
       "                                                  2  \n",
       "0                                    New Chautauqua  \n",
       "1                     Hammersmith Odeon_ London '75  \n",
       "2                                Born In The U.S.A.  \n",
       "3                                          Upojenie  \n",
       "4                           Beyond The Missouri Sky  \n",
       "5  Your Funeral... My Trial (2009 Digital Remaster)  \n",
       "6              The Good Son (2010 Digital Remaster)  \n",
       "7                                         Nocturama  \n",
       "8                                         So Lonely  \n",
       "9                                  Message In A Box  "
      ]
     },
     "metadata": {},
     "output_type": "display_data"
    },
    {
     "name": "stdout",
     "output_type": "stream",
     "text": [
      "encoder is done\n",
      "input formatted\n",
      "10 9999\n",
      "M:  0\n",
      "M:  100\n",
      "M:  200\n",
      "M:  300\n",
      "M:  400\n",
      "M:  500\n",
      "M:  600\n",
      "M:  700\n",
      "M:  800\n",
      "M:  900\n",
      "M:  1000\n",
      "M:  1100\n",
      "M:  1200\n",
      "M:  1300\n",
      "M:  1400\n",
      "M:  1500\n",
      "M:  1600\n",
      "M:  1700\n",
      "M:  1800\n",
      "M:  1900\n",
      "M:  2000\n",
      "M:  2100\n",
      "M:  2200\n",
      "M:  2300\n",
      "M:  2400\n",
      "M:  2500\n",
      "M:  2600\n",
      "M:  2700\n",
      "M:  2800\n",
      "M:  2900\n",
      "M:  3000\n",
      "M:  3100\n",
      "M:  3200\n",
      "M:  3300\n",
      "M:  3400\n",
      "M:  3500\n",
      "M:  3600\n",
      "M:  3700\n",
      "M:  3800\n",
      "M:  3900\n",
      "M:  4000\n",
      "M:  4100\n",
      "M:  4200\n",
      "M:  4300\n",
      "M:  4400\n",
      "M:  4500\n",
      "M:  4600\n",
      "M:  4700\n",
      "M:  4800\n",
      "M:  4900\n",
      "M:  5000\n",
      "M:  5100\n",
      "M:  5200\n",
      "M:  5300\n",
      "M:  5400\n"
     ]
    }
   ],
   "source": [
    "# TEST\n",
    "n = 10\n",
    "#input = [[str(data.iloc[j]['title']), str(data.iloc[j]['artist_name'])] for j in random.sample(range(len(data)), n)]   # input of song titles\n",
    "songs= [9304,4292,5965,6815,4550,76,1153,2263,7390,1843]\n",
    "unsorted_df = build.load_data(\"output.csv\")\n",
    "input = [[str(unsorted_df.iloc[i]['title']), str(unsorted_df.iloc[i]['artist_name']),str(unsorted_df.iloc[i]['release'])] for i in songs]\n",
    "k = 100 #number of song recomendations\n",
    "# Computing complete distance matrix\n",
    "\n",
    "display(pd.DataFrame(input))\n",
    "#distance_matrix = pd.DataFrame(build.build_distances(data))\n",
    "#recommend(input, data, k, distance_matrix)\n",
    "\n",
    "print(\"encoder is done\")\n",
    "# Computing only distance to playlist\n",
    "distances = recommend(input, df.copy(), k, encoder, term_index, hot_data)"
   ]
  },
  {
   "cell_type": "code",
   "execution_count": null,
   "id": "dbc83332-b98f-40d0-b38a-c828862be4a0",
   "metadata": {},
   "outputs": [],
   "source": []
  }
 ],
 "metadata": {
  "kernelspec": {
   "display_name": "Python 3 (ipykernel)",
   "language": "python",
   "name": "python3"
  },
  "language_info": {
   "codemirror_mode": {
    "name": "ipython",
    "version": 3
   },
   "file_extension": ".py",
   "mimetype": "text/x-python",
   "name": "python",
   "nbconvert_exporter": "python",
   "pygments_lexer": "ipython3",
   "version": "3.11.3"
  }
 },
 "nbformat": 4,
 "nbformat_minor": 5
}
