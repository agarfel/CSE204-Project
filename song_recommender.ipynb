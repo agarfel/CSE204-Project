{
 "cells": [
  {
   "cell_type": "markdown",
   "id": "af118e80-cd1c-488b-be7f-f617930d99d3",
   "metadata": {},
   "source": [
    "# Song recommender project #"
   ]
  },
  {
   "cell_type": "markdown",
   "id": "c3b0d1a7-a4ca-4666-8fbf-bce10fef4535",
   "metadata": {},
   "source": [
    " Garcinuño Feliciano Angela <br>\n",
    " Huima Klaara <br>\n",
    " Massot Lucas "
   ]
  },
  {
   "cell_type": "code",
   "execution_count": null,
   "id": "810f783f-37c8-4753-b852-1a7c7e77ceb8",
   "metadata": {},
   "outputs": [],
   "source": [
    "import pandas as pd\n",
    "import numpy as np\n",
    "import build\n",
    "import random\n",
    "import buildEncoder"
   ]
  },
  {
   "cell_type": "code",
   "execution_count": null,
   "id": "a7204141-4b47-4a3f-b22f-0489b90dd013",
   "metadata": {
    "scrolled": true
   },
   "outputs": [],
   "source": [
    "df, term_index = buildEncoder.load_data('output.csv')"
   ]
  },
  {
   "cell_type": "code",
   "execution_count": null,
   "id": "1b73e3c4-257e-4635-b409-e5b631fa470e",
   "metadata": {},
   "outputs": [],
   "source": []
  },
  {
   "cell_type": "code",
   "execution_count": null,
   "id": "9c912935-b306-4d7d-bd97-077b3702d2a8",
   "metadata": {},
   "outputs": [],
   "source": [
    "def recommend(song_list: list, df: pd.core.frame.DataFrame, k: int, encoder, term_index, hot_data, distance_matrix = None):\n",
    "    #print(song_list)\n",
    "    playlist, indexes = buildEncoder.format_input(song_list, df)\n",
    "    print(\"input formatted\")\n",
    "    if isinstance(distance_matrix, type(None)):\n",
    "        distances, total_d = buildEncoder.compute_distance_to_playlist(playlist, indexes, hot_data, encoder)\n",
    "    else:\n",
    "        print(\"computing distances to playlist...\")\n",
    "        distances, total_d = buildEncoder.select_distance_to_playlist(playlist, indexes, distance_matrix)    \n",
    "    print(\"distances computed\")\n",
    "    display(pd.DataFrame(distances))\n",
    "    output_df = buildEncoder.get_k_recommendations(total_d, k, df)\n",
    "    print(\"received recommendations\")\n",
    "    display(output_df)\n",
    "    return distances, total_d"
   ]
  },
  {
   "cell_type": "code",
   "execution_count": null,
   "id": "4f9c327a-5231-4cb7-821f-0ffa04013c70",
   "metadata": {},
   "outputs": [],
   "source": [
    "hot_data, encoder = buildEncoder.build_encoder(df, term_index, tuning = False)\n",
    "\n",
    "\"\"\"\n",
    "playlists = []\n",
    "indexes = []\n",
    "for i in range(10):\n",
    "    index = [i*1000 + j for j in range(1000)]\n",
    "    playlist = [hot_data[i*1000 + j] for j in range(1000)]\n",
    "    playlists.append(playlist)\n",
    "    indexes.append(index)\n",
    "\"\"\""
   ]
  },
  {
   "cell_type": "code",
   "execution_count": null,
   "id": "f7657b87-53be-4d56-b59f-bddf7854efa4",
   "metadata": {},
   "outputs": [],
   "source": [
    "# TEST\n",
    "n = 1\n",
    "#input = [[str(data.iloc[j]['title']), str(data.iloc[j]['artist_name'])] for j in random.sample(range(len(data)), n)]   # input of song titles\n",
    "songs= [4292,5965,7390]\n",
    "unsorted_df = build.load_data(\"output.csv\")\n",
    "input = [[str(unsorted_df.iloc[i]['title']), str(unsorted_df.iloc[i]['artist_name']),str(unsorted_df.iloc[i]['release'])] for i in songs]\n",
    "k = 10 #number of song recomendations\n",
    "# Computing complete distance matrix\n",
    "\n",
    "display(pd.DataFrame(input))\n",
    "#distance_matrix = pd.DataFrame(build.build_distances(data))\n",
    "#recommend(input, data, k, distance_matrix)\n",
    "\n",
    "print(\"encoder is done\")\n",
    "# Computing only distance to playlist\n",
    "distances, total_d = recommend(input, df.copy(), k, encoder, term_index, hot_data)"
   ]
  },
  {
   "cell_type": "code",
   "execution_count": null,
   "id": "d1c97f61-ce31-44ea-8e6c-36d74efeef75",
   "metadata": {},
   "outputs": [],
   "source": [
    "display(sorted(total_d))"
   ]
  },
  {
   "cell_type": "code",
   "execution_count": null,
   "id": "ca114879-d2e3-463c-b531-df937827f85a",
   "metadata": {},
   "outputs": [],
   "source": []
  }
 ],
 "metadata": {
  "kernelspec": {
   "display_name": "Python 3 (ipykernel)",
   "language": "python",
   "name": "python3"
  },
  "language_info": {
   "codemirror_mode": {
    "name": "ipython",
    "version": 3
   },
   "file_extension": ".py",
   "mimetype": "text/x-python",
   "name": "python",
   "nbconvert_exporter": "python",
   "pygments_lexer": "ipython3",
   "version": "3.11.3"
  }
 },
 "nbformat": 4,
 "nbformat_minor": 5
}
