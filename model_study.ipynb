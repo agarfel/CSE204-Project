{
 "cells": [
  {
   "cell_type": "markdown",
   "id": "0b8b8144-301a-4d06-895f-f3be488f662c",
   "metadata": {},
   "source": [
    "# MODEL STUDY"
   ]
  },
  {
   "cell_type": "code",
   "execution_count": 12,
   "id": "312cb787-2814-4562-8467-939f53f79a29",
   "metadata": {},
   "outputs": [],
   "source": [
    "import pandas as pd\n",
    "import numpy as np\n",
    "\n",
    "import matplotlib.pyplot as plt\n",
    "import matplotlib.colors as colors\n",
    "from mpl_toolkits.mplot3d import axes3d"
   ]
  },
  {
   "cell_type": "code",
   "execution_count": 17,
   "id": "843ca4c5-9d37-47c0-9a31-8a352487a6cb",
   "metadata": {},
   "outputs": [],
   "source": [
    "import build as bd"
   ]
  },
  {
   "cell_type": "code",
   "execution_count": 18,
   "id": "1079ba89-0b00-4ae4-bd49-8065210e1013",
   "metadata": {},
   "outputs": [],
   "source": [
    "data = bd.load_data(\"output.csv\")"
   ]
  },
  {
   "cell_type": "code",
   "execution_count": 30,
   "id": "fa9b7536-adc6-4894-85ce-006567407952",
   "metadata": {},
   "outputs": [],
   "source": [
    "def same(song1, song2):\n",
    "    #returns true if two songs are the same track\n",
    "    if (song1['title'] == song2['title']) and (song1['artist_name'] == song2['artist_name']):\n",
    "        return True\n",
    "    else: return False"
   ]
  },
  {
   "cell_type": "markdown",
   "id": "62a634ac-e833-41a3-9db4-b89de279453f",
   "metadata": {},
   "source": [
    "# CLUSTER PLOT CODE"
   ]
  },
  {
   "cell_type": "code",
   "execution_count": 31,
   "id": "8ec1a02a-67f8-42f3-a5b8-ee14494ce7e1",
   "metadata": {},
   "outputs": [],
   "source": [
    "k = 3 #number of clusters\n",
    "\n",
    "#distance would be our defined distance function\n",
    "\n",
    "def dtos(song, playlist): #distance to other songs (sum of distances to all songs in the playlist\n",
    "    return np.sum([bd.distance(othersong, song) for othersong in playlist])\n",
    "    \n",
    "def find_starting_points(playlist, k):\n",
    "    all_distances = np.array([dtos(song, playlist) for song in playlist])\n",
    "    sort_indices = np.argsort(all_distances)\n",
    "    starting_points = sort_indices[:k]\n",
    "    return starting_points\n",
    "\n",
    "def cluster_songs(starting_points, k, pl, song):\n",
    "    #cluster songs in input playlist into k clusters with respective starting points in starting_points wrt distance to song\n",
    "    # where song is a recommended song\n",
    "    # pl is playlist\n",
    "    names = [[pl[start]['title']] for start in starting_points]\n",
    "    values = [[bd.distance(pl[start], song)] for start in starting_points]\n",
    "\n",
    "    start_ids = [(pl[s]['title'],pl[s]['artist_name']) for s in starting_points]\n",
    "    for plsong in pl:\n",
    "        if (plsong['title'], plsong['artist_name']) not in start_ids:\n",
    "            cluster = np.argsort(np.array([bd.distance(plsong, pl[start]) for start in starting_points]))[0]\n",
    "            #returns index in starting_points which cluster it corresponds to\n",
    "            names[cluster].append(plsong['title'])\n",
    "            values[cluster].append(bd.distance(plsong, song))\n",
    "\n",
    "    min = np.min([bd.distance(song, other) for other in pl])\n",
    "\n",
    "    rescaled = values\n",
    "    for i in range(len(values)):\n",
    "        for j in range(len(values[i])):\n",
    "            \n",
    "            rescaled[i][j] = values[i][j] + np.abs(min) + 1\n",
    "            \n",
    "    return names, rescaled\n",
    "    "
   ]
  },
  {
   "cell_type": "code",
   "execution_count": 21,
   "id": "aa12597a-2206-4b6e-a015-1fefd4cec27d",
   "metadata": {},
   "outputs": [],
   "source": [
    "def cluster_plot(distance_array, songs, size=(7,6)):\n",
    "\n",
    "    size_of_points = 7\n",
    "\n",
    "    k = len(distance_array)\n",
    "    l = len(songs)\n",
    "\n",
    "    if k != l or [len(kk) for kk in distance_array] != [len(ll) for ll in songs]:\n",
    "        print(\"error with the input arrays\")\n",
    "        return \n",
    "              \n",
    "    if k > 4 :\n",
    "        print(\"too many clusters\")\n",
    "        return \n",
    "         \n",
    "    x_min, x_max, y_min, y_max = -1, 1, -1, 1\n",
    "    \n",
    "    if k>=1:\n",
    "        \n",
    "        first = np.array(distance_array[0])\n",
    "        x_max = np.max(first) + 1\n",
    "        \n",
    "    if k>=2:\n",
    "        \n",
    "        second = -np.array(distance_array[1])\n",
    "        x_min = min(second) - 1 \n",
    "        \n",
    "    if k>=3:\n",
    "        \n",
    "        third = np.array(distance_array[2])\n",
    "        y_max = np.max(third) + 1  \n",
    "        \n",
    "    if k>=4:\n",
    "        \n",
    "        fourth = -np.array(distance_array[3])\n",
    "        y_min = np.min(fourth) - 1\n",
    "        \n",
    "    fig = plt.figure(figsize=size)\n",
    "\n",
    "    plt.xlim(x_min, x_max)\n",
    "    plt.ylim(y_min, y_max)\n",
    "\n",
    "    plt.plot(np.linspace(x_min, x_max, 100), np.zeros(100), color = 'k')\n",
    "    \n",
    "    if k >=3 :\n",
    "        plt.plot(np.zeros(100), np.linspace(y_min, y_max, 100), color = \"k\")\n",
    "        \n",
    "    plt.plot([x_min - 2, 0, x_max + 2], [y_min - 2, 0, y_max + 2], color = 'r', marker='o', markersize = size_of_points, linestyle=\"\")\n",
    "\n",
    "    \n",
    "    if k >= 1 :\n",
    "        zeros = np.zeros(len(first))\n",
    "\n",
    "        plt.plot(first, zeros, color='m', marker='o', markersize = size_of_points, linestyle=\"\")\n",
    "        for i in range(len(first)):\n",
    "            plt.text(first[i], -0.5, str(i+1), ha='center', va='top', color='m')\n",
    "        \n",
    "    if k >= 2 :\n",
    "        zeros = np.zeros(len(second))\n",
    "\n",
    "        plt.plot(second, zeros, color='c', marker=\"o\", markersize = size_of_points, linestyle=\"\")\n",
    "        for i in range(len(second)):\n",
    "            plt.text(second[i], -0.5, str(i+1), ha='center', va='top', color='c')\n",
    "    \n",
    "    if k >= 3 :\n",
    "        zeros = np.zeros(len(third))\n",
    "\n",
    "        plt.plot(zeros, third, color='y', marker=\"o\", markersize = size_of_points, linestyle=\"\")\n",
    "        for i in range(len(third)):\n",
    "            plt.text(0.2, third[i], str(i+1), ha='center', va='top', color='y')\n",
    "            \n",
    "    if k == 4 :\n",
    "        zeros = np.zeros(len(fourth))\n",
    "\n",
    "        plt.plot(zeros, fourth, color='g', marker=\"o\", markersize = size_of_points, linestyle=\"\")\n",
    "        for i in range(len(fourth)):\n",
    "            plt.text(0.2, fourth[i], str(i+1), ha='center', va='top', color='g')\n",
    "\n",
    "    plt.show()\n",
    "\n",
    "    colors = ['\\nMagenta', 'Cyan', 'Yellow', 'Green']\n",
    "    for j in range(k):\n",
    "        print(colors[j]+\":\\n\")\n",
    "        for i in range(len(songs[j])):\n",
    "            print(\"\\t\"+str(i+1)+\": \"+songs[j][i]+\" \\n\")\n",
    "\n",
    "\n",
    "            "
   ]
  },
  {
   "cell_type": "code",
   "execution_count": 22,
   "id": "125acbcd-73c4-4fe2-bf56-31af9fe8a431",
   "metadata": {},
   "outputs": [
    {
     "data": {
      "image/png": "[encoded data removed]",
      "text/plain": [
       "<Figure size 700x600 with 1 Axes>"
      ]
     },
     "metadata": {},
     "output_type": "display_data"
    },
    {
     "name": "stdout",
     "output_type": "stream",
     "text": [
      "\n",
      "Magenta:\n",
      "\n",
      "\t1: Floating \n",
      "\n",
      "\t2: The Urgency (LP Version) \n",
      "\n",
      "\t3: Auguri Cha Cha \n",
      "\n",
      "\t4: Tonight Will Be Alright \n",
      "\n",
      "\t5: Caught In A Dream \n",
      "\n",
      "Cyan:\n",
      "\n",
      "\t1: Something Girls \n",
      "\n",
      "\t2: Face the Ashes \n",
      "\n",
      "\t3: Drop of Rain \n",
      "\n",
      "\t4: Pink World \n",
      "\n",
      "Yellow:\n",
      "\n",
      "\t1: Soul Deep \n",
      "\n",
      "\t2: Amor De Cabaret \n",
      "\n",
      "\t3: The Moon And I (Ordinary Day Album Version) \n",
      "\n",
      "\t4: Young Boy Blues \n",
      "\n",
      "\t5: High Tide \n",
      "\n",
      "Green:\n",
      "\n",
      "\t1: Insatiable (Instrumental Version) \n",
      "\n",
      "\t2: I Didn't Mean To \n",
      "\n",
      "\t3: Keepin It Real (Skit) \n",
      "\n",
      "\t4: La Culpa \n",
      "\n",
      "\t5: Sohna Nee Sohna Data \n",
      "\n"
     ]
    }
   ],
   "source": [
    "playlist = [data.iloc[i] for i in range(19)]\n",
    "songrec = data.iloc[20]\n",
    "#def cluster_songs(starting_points, k, pl, song)print(terms1, weights1, term2, weights2)\n",
    "k = 4\n",
    "\n",
    "alphas = [1,1,1,1,1]\n",
    "\n",
    "#def find_starting_points(playlist, k):\n",
    "\n",
    "#def cluster_plot(distance_array, songs, size=(7,6)):\n",
    "\n",
    "names, values = cluster_songs(find_starting_points(playlist,k), k, playlist, songrec)\n",
    "cluster_plot(values, names)\n"
   ]
  },
  {
   "cell_type": "markdown",
   "id": "3f5d13d5-d9cc-4741-bd3e-3ff477b17398",
   "metadata": {},
   "source": [
    "# CLOSEST N SONGS IN DISTANCE"
   ]
  },
  {
   "cell_type": "code",
   "execution_count": 23,
   "id": "23db360a-1088-4fbf-bbd3-6da594c847f8",
   "metadata": {},
   "outputs": [
    {
     "name": "stdout",
     "output_type": "stream",
     "text": [
      "['Pink World', 'Keepin It Real (Skit)', 'High Tide']\n"
     ]
    }
   ],
   "source": [
    "def closest_n(song, pl, n):\n",
    "    #song is a recommended song\n",
    "    #pl playlist from which song was recommended\n",
    "    #returns closest n songs in an array, closest to furthest\n",
    "\n",
    "    distances = np.array([bd.distance(song, plsong) for plsong in pl])\n",
    "    sort_distances = np.argsort(distances)\n",
    "    n_indices = sort_distances[:n]\n",
    "    return [playlist[i]['title'] for i in n_indices]\n",
    "\n",
    "print(closest_n(songrec, playlist, 3))\n",
    "    "
   ]
  },
  {
   "cell_type": "markdown",
   "id": "1393c07d-50fa-4c6c-a060-c4e2836f50a8",
   "metadata": {},
   "source": [
    "# Cool bar graph with different components"
   ]
  },
  {
   "cell_type": "code",
   "execution_count": 28,
   "id": "b528d47c-add3-485a-a291-1466a9e72cdb",
   "metadata": {},
   "outputs": [],
   "source": [
    "def bar_graph_data(songrec, pl, alphas = [1,1,1,1,1]):\n",
    "    hottness = [bd.distance(songrec, song, alphas, 'hottness') for song in pl]\n",
    "    loudness = [bd.distance(songrec, song, alphas, 'loudness') for song in pl]\n",
    "    tempo = [bd.distance(songrec, song, alphas, 'tempo') for song in pl]\n",
    "    similar_artists = [bd.distance(songrec, song, alphas, 'similar') for song in pl]\n",
    "    shared_terms = [bd.distance(songrec, song, alphas, 'terms') for song in pl]\n",
    "\n",
    "    return hottness, loudness, tempo, similar_artists, shared_terms"
   ]
  },
  {
   "cell_type": "code",
   "execution_count": 29,
   "id": "7aa406e2-40d2-49d8-8321-8ffb1c23ce17",
   "metadata": {},
   "outputs": [
    {
     "data": {
      "image/png": "[encoded data removed]",
      "text/plain": [
       "<Figure size 1000x600 with 1 Axes>"
      ]
     },
     "metadata": {},
     "output_type": "display_data"
    }
   ],
   "source": [
    "\n",
    "#DATA\n",
    "\n",
    "# define songrec\n",
    "# define playlist\n",
    "\n",
    "playlist = [data.iloc[i] for i in range(20,40)]\n",
    "songrec = data.iloc[19]\n",
    "#def cluster_songs(starting_points, k, pl, song)print(terms1, weights1, term2, weights2)\n",
    "\n",
    "alphas = [4,4,4,1,4]\n",
    "\n",
    "hottness, loudness, tempo, similar_artists, shared_terms = bar_graph_data(songrec, playlist, alphas)\n",
    "names = [song['title'] for song in playlist]\n",
    "\n",
    "plotdata = {\n",
    "    'Playlist songs' : [i for i in range(len(playlist)-1)],\n",
    "    'hottness' : hottness[1:],\n",
    "    'loudness' : loudness[1:],\n",
    "    'tempo' : tempo[1:],\n",
    "    'similar artists' : similar_artists[1:],\n",
    "    'shared terms' : shared_terms[1:] #side bar plot\n",
    "}\n",
    "\n",
    "\n",
    "df = pd.DataFrame(plotdata)\n",
    "\n",
    "# Set 'Year' as the index\n",
    "df.set_index('Playlist songs', inplace=True)\n",
    "\n",
    "# Plotting the stacked bar chart\n",
    "fig, ax = plt.subplots(figsize=(10, 6))\n",
    "\n",
    "# Plot the main stacked bars\n",
    "df[['hottness', 'loudness', 'tempo', 'similar artists']].plot(kind='bar', stacked=True, ax=ax)\n",
    "\n",
    "# Manually add the separate bar next to each group\n",
    "bar_width = 0.2\n",
    "x = np.arange(len(df.index))  # the label locations\n",
    "separate_bar_x = x + bar_width  # position for the separate bar\n",
    "\n",
    "ax.bar(separate_bar_x, df['shared terms'], width=bar_width, label='shared terms', color='orange')\n",
    "\n",
    "# Adding labels and title\n",
    "ax.set_xlabel('Playlist')\n",
    "ax.set_ylabel('Distances')\n",
    "ax.set_title('Distances in terms to all songs in playlist')\n",
    "\n",
    "# Setting x-ticks to be in the middle of the main and separate bars\n",
    "ax.set_xticks(x + bar_width / 2)\n",
    "ax.set_xticklabels(df.index)\n",
    "\n",
    "# Adding a legend\n",
    "ax.legend()\n",
    "\n",
    "# Adjust layout to make room for the separate bars\n",
    "plt.tight_layout()\n",
    "\n",
    "# Show plot\n",
    "plt.show()\n",
    "    "
   ]
  },
  {
   "cell_type": "code",
   "execution_count": null,
   "id": "64ae07c4-9b3a-4b99-a4a9-02c30b6db8ca",
   "metadata": {},
   "outputs": [],
   "source": []
  },
  {
   "cell_type": "code",
   "execution_count": null,
   "id": "9fb7dfe2-26f5-4714-981d-318342681af7",
   "metadata": {},
   "outputs": [],
   "source": []
  }
 ],
 "metadata": {
  "kernelspec": {
   "display_name": "Python 3 (ipykernel)",
   "language": "python",
   "name": "python3"
  },
  "language_info": {
   "codemirror_mode": {
    "name": "ipython",
    "version": 3
   },
   "file_extension": ".py",
   "mimetype": "text/x-python",
   "name": "python",
   "nbconvert_exporter": "python",
   "pygments_lexer": "ipython3",
   "version": "3.12.3"
  }
 },
 "nbformat": 4,
 "nbformat_minor": 5
}
