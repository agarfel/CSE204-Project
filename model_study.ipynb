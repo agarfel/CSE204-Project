{
 "cells": [
  {
   "cell_type": "markdown",
   "id": "0b8b8144-301a-4d06-895f-f3be488f662c",
   "metadata": {},
   "source": [
    "# MODEL STUDY"
   ]
  },
  {
   "cell_type": "code",
   "execution_count": 8,
   "id": "312cb787-2814-4562-8467-939f53f79a29",
   "metadata": {},
   "outputs": [],
   "source": [
    "import pandas as pd\n",
    "import numpy as np\n",
    "\n",
    "import matplotlib.pyplot as plt\n",
    "import matplotlib.colors as colors\n",
    "from mpl_toolkits.mplot3d import axes3d"
   ]
  },
  {
   "cell_type": "code",
   "execution_count": 33,
   "id": "1079ba89-0b00-4ae4-bd49-8065210e1013",
   "metadata": {},
   "outputs": [],
   "source": [
    "data = pd.read_csv(\"output.csv\")\n",
    "data['similar'] = data['similar'].apply(lambda x: x.split('/'))\n",
    "data['artist_terms'] = data['artist_terms'].apply(lambda x: str(x).split('/'))\n",
    "data['artist_terms_weights'] = data['artist_terms_weights'].apply(lambda x: str(x).split('/'))\n",
    "\n",
    "l_max = data['loudness'].max()\n",
    "l_min = data['loudness'].min()\n",
    "\n",
    "t_max = data['tempo'].max()\n",
    "t_min = data['tempo'].min()\n",
    "\n",
    "data['tempo'] = (data['tempo'] - t_min)/(t_max - t_min)\n",
    "data['loudness'] = (data['loudness'] - l_min)/(l_max - l_min)"
   ]
  },
  {
   "cell_type": "code",
   "execution_count": 36,
   "id": "41333b93-1fa7-4844-ba94-578873b5bd37",
   "metadata": {},
   "outputs": [],
   "source": [
    "def build_df(input: list, df: pd.core.frame.DataFrame):\n",
    "    input_songs = [x.upper() for x in input]\n",
    "\n",
    "    indexes = []\n",
    "    result = []\n",
    "    for i in range(len(df)):\n",
    "        if str(df.iloc[i]['title']).upper() in input_songs:\n",
    "            result.append(df.iloc[i])\n",
    "            indexes.append(i)\n",
    "    for i in indexes:\n",
    "        df.drop(i, inplace=True)\n",
    "    return result\n",
    "    "
   ]
  },
  {
   "cell_type": "code",
   "execution_count": 93,
   "id": "1853efac-a7b4-4722-acee-cb03d347253b",
   "metadata": {},
   "outputs": [
    {
     "name": "stdout",
     "output_type": "stream",
     "text": [
      "artist_name                                                        Casual\n",
      "title                                                    I Didn't Mean To\n",
      "release                                                       Fear Itself\n",
      "similar                 [ARV4KO21187FB38008, ARWHM281187FB3D381, ARJGO...\n",
      "hottness                                                         0.401998\n",
      "artist_terms            [hip hop, underground rap, g funk, alternative...\n",
      "artist_terms_weights    [1.0, 0.8979359555142553, 0.8842618474718359, ...\n",
      "loudness                                                         0.774694\n",
      "tempo                                                            0.350792\n",
      "Name: 0, dtype: object\n",
      "[artist_name                                                        Casual\n",
      "title                                                    I Didn't Mean To\n",
      "release                                                       Fear Itself\n",
      "similar                 [ARV4KO21187FB38008, ARWHM281187FB3D381, ARJGO...\n",
      "hottness                                                         0.401998\n",
      "artist_terms            [hip hop, underground rap, g funk, alternative...\n",
      "artist_terms_weights    [1.0, 0.8979359555142553, 0.8842618474718359, ...\n",
      "loudness                                                         0.774694\n",
      "tempo                                                            0.350792\n",
      "Name: 0, dtype: object, artist_name                                                  The Box Tops\n",
      "title                                                           Soul Deep\n",
      "release                                                        Dimensions\n",
      "similar                 [ARSZWK21187B9B26D7, ARLDW2Y1187B9B544F, ARG0T...\n",
      "hottness                                                           0.4175\n",
      "artist_terms            [blue-eyed soul, pop rock, blues-rock, beach m...\n",
      "artist_terms_weights    [1.0, 0.8459884034332037, 0.8306895698215381, ...\n",
      "loudness                                                         0.800628\n",
      "tempo                                                             0.46142\n",
      "Name: 1, dtype: object, artist_name                                              Sonora Santanera\n",
      "title                                                     Amor De Cabaret\n",
      "release                               Las Numero 1 De La Sonora Santanera\n",
      "similar                 [ARFSJUG11C8A421AAD, AR8SD041187FB36015, ARR75...\n",
      "hottness                                                         0.343428\n",
      "artist_terms            [salsa, cumbia, tejano, ranchera, latin pop, l...\n",
      "artist_terms_weights    [1.0, 0.9582578450180738, 0.9582578450180738, ...\n",
      "loudness                                                         0.803578\n",
      "tempo                                                            0.380743\n",
      "Name: 2, dtype: object, artist_name                                                      Adam Ant\n",
      "title                                                     Something Girls\n",
      "release                                                     Friend Or Foe\n",
      "similar                 [AR4R0741187FB39AF2, AR0D7K21187B9AD14E, ARRCB...\n",
      "hottness                                                         0.454231\n",
      "artist_terms            [pop rock, new wave, dance rock, rock, new rom...\n",
      "artist_terms_weights    [1.0, 0.9636972066614938, 0.9267729972686404, ...\n",
      "loudness                                                         0.816526\n",
      "tempo                                                            0.453882\n",
      "Name: 3, dtype: object, artist_name                                                           Gob\n",
      "title                                                      Face the Ashes\n",
      "release                                                     Muertos Vivos\n",
      "similar                 [ARUA62A1187B99D9B0, ARHJFFY1187B98BA76, ARHB1...\n",
      "hottness                                                         0.401724\n",
      "artist_terms            [pop punk, ska punk, breakcore, alternative me...\n",
      "artist_terms_weights    [1.0, 0.9609057433767874, 0.9592366232787087, ...\n",
      "loudness                                                         0.902948\n",
      "tempo                                                            0.493623\n",
      "Name: 4, dtype: object, artist_name                                         Jeff And Sheri Easter\n",
      "title                         The Moon And I (Ordinary Day Album Version)\n",
      "release                                                      Ordinary Day\n",
      "similar                 [ARHNMEZ11F50C4706C, ARCAWRI1187B98CDA6, ARV6F...\n",
      "hottness                                                         0.385471\n",
      "artist_terms                               [southern gospel, bluegrass, ]\n",
      "artist_terms_weights                           [1.0, 0.889349058121347, ]\n",
      "loudness                                                         0.810588\n",
      "tempo                                                            0.562276\n",
      "Name: 5, dtype: object, artist_name                                                       Rated R\n",
      "title                                               Keepin It Real (Skit)\n",
      "release                                                 Da Ghetto Psychic\n",
      "similar                 [ARF93II1187B99F981, ART6ONC11C8A421DB9, ARC6Q...\n",
      "hottness                                                         0.261941\n",
      "artist_terms            [breakbeat, dirty south rap, hip hop, electron...\n",
      "artist_terms_weights    [1.0, 0.9258286857243918, 0.8650794411328923, ...\n",
      "loudness                                                          0.65776\n",
      "tempo                                                            0.425324\n",
      "Name: 6, dtype: object, artist_name                                         Tweeterfriendly Music\n",
      "title                                                        Drop of Rain\n",
      "release                                                      Gin & Phonic\n",
      "similar                 [ARJXL4Z1187B9A5920, ARV8K7U1187FB44D92, ARICY...\n",
      "hottness                                                         0.605507\n",
      "artist_terms                    [post-hardcore, screamo, emo, hardcore, ]\n",
      "artist_terms_weights    [1.0, 0.9969517100983949, 0.9461322911529126, ...\n",
      "loudness                                                         0.766171\n",
      "tempo                                                            0.385918\n",
      "Name: 7, dtype: object, artist_name                                              Planet P Project\n",
      "title                                                          Pink World\n",
      "release                                                        Pink World\n",
      "similar                 [ARWVP631187FB4D016, ARL1M001187FB4E720, AR8MA...\n",
      "hottness                                                         0.332276\n",
      "artist_terms            [new wave, progressive rock, space rock, eurod...\n",
      "artist_terms_weights    [1.0, 0.9869619197460083, 0.9830645318679623, ...\n",
      "loudness                                                         0.730659\n",
      "tempo                                                            0.329657\n",
      "Name: 8, dtype: object, artist_name                                                           Clp\n",
      "title                                   Insatiable (Instrumental Version)\n",
      "release                                                 Superinstrumental\n",
      "similar                 [ARAR1XA11C8A415BE5, ARFYEC011C8A42B073, AR966...\n",
      "hottness                                                         0.422706\n",
      "artist_terms            [breakcore, miami bass, new rave, grime, break...\n",
      "artist_terms_weights    [1.0, 0.987091194198967, 0.987091194198967, 0....\n",
      "loudness                                                         0.860886\n",
      "tempo                                                              0.4339\n",
      "Name: 9, dtype: object]\n"
     ]
    }
   ],
   "source": [
    "print(data.iloc[0])\n",
    "\n",
    "playlist = [data.iloc[i] for i in range(10)]\n",
    "print(playlist)\n",
    "songrec = data.iloc[0]"
   ]
  },
  {
   "cell_type": "code",
   "execution_count": 94,
   "id": "e28684df-9f5a-4e07-91b3-d76ee1b84c90",
   "metadata": {},
   "outputs": [
    {
     "name": "stdout",
     "output_type": "stream",
     "text": [
      "0.015502101606694796\n"
     ]
    }
   ],
   "source": [
    "def distance(song1, song2, alphas = [1,1,1,1,1], term = None):\n",
    "    \"\"\"\n",
    "    song1, song2 : python native lists    format : [artist, title, album, similar, hottness, terms, terms-weights, loudness, tempo]\n",
    "    alphas : python native list\n",
    "    \n",
    "    \"\"\"\n",
    "    \n",
    "    alpha_hot, alpha_loud, alpha_tempo, alpha_similar, alpha_terms = alphas\n",
    "    artist, title1, album1, similar1, hot1, terms1, weights1, loud1, tempo1 = song1\n",
    "    artist2, title2, album2, similar2, hot2, terms2, weights2, loud2, tempo2 = song2\n",
    "    \n",
    "    if term == 'hot':\n",
    "        return alpha_hot*abs(hot1-hot2)\n",
    "    elif term == 'loud':\n",
    "        return alpha_loud*abs(loud1-loud2)\n",
    "    elif term == 'tempo':\n",
    "        return alpha_tempo*abs(tempo1-tempo2)\n",
    "    elif term == 'similar_artists':\n",
    "        return alpha_similar*(1 - len([singer for singer in similar1 if singer in similar2])/100)\n",
    "    #similar artists\n",
    "    elif term == 'shared_terms':\n",
    "        shared_terms = [term for term in terms1 if (term in terms2 and term != '')]\n",
    "        shared_weights1, shared_weights2 = [float(weights1[terms1.index(term)]) for term in shared_terms], [float(weights2[terms2.index(term)]) for term in shared_terms]\n",
    "        return alpha_terms*sum([0.5*(shared_weights1[i] + shared_weights2[i]) for i in range(len(shared_terms)) ])\n",
    "    else:\n",
    "        shared_terms = [term for term in terms1 if (term in terms2 and term != '')]\n",
    "        shared_weights1, shared_weights2 = [float(weights1[terms1.index(term)]) for term in shared_terms], [float(weights2[terms2.index(term)]) for term in shared_terms]\n",
    "        artist_terms_weighted = alpha_terms*sum([0.5*(shared_weights1[i] + shared_weights2[i]) for i in range(len(shared_terms)) ])\n",
    "      \n",
    "        distance = alpha_hot*abs(hot1-hot2) + alpha_loud*abs(loud1-loud2) + alpha_tempo*abs(tempo1-tempo2)\n",
    "        distance += alpha_similar*(1 - len([singer for singer in similar1 if singer in similar2])/100)\n",
    "        distance -= alpha_terms*sum([0.5*(shared_weights1[i] + shared_weights2[i]) for i in range(len(shared_terms)) ])\n",
    "\n",
    "        return distance\n",
    "    #print(\"hot: \" + str(alpha_hot*abs(hot1-hot2) )+ \" loud: \" + str(alpha_loud*abs(loud1-loud2)) + \" tempo: \", + str(alpha_tempo*abs(tempo1-tempo2) )+ \"similar: \" + \n",
    "    #str(alpha_similar*(1 - len([singer for singer in similar1 if singer in similar2])/100))+ \"terms: \" + str(alpha_terms*sum([0.5*(shared_weights1[i] + shared_weights2[i]) for i in range(len(shared_terms)) ])))\n",
    "\n",
    "print(distance(songrec, data.iloc[1], [1,1,1,1,1], 'hot'))"
   ]
  },
  {
   "cell_type": "markdown",
   "id": "ccfd6991-54dd-4a17-86ed-2f2efbd5bbd9",
   "metadata": {},
   "source": [
    "# CLUSTERING MODEL"
   ]
  },
  {
   "cell_type": "code",
   "execution_count": 97,
   "id": "8ec1a02a-67f8-42f3-a5b8-ee14494ce7e1",
   "metadata": {},
   "outputs": [
    {
     "name": "stdout",
     "output_type": "stream",
     "text": [
      "0\n",
      "1\n",
      "3\n",
      "1\n",
      "0\n",
      "0\n",
      "2\n",
      "0\n",
      "3\n",
      "2\n",
      "([['Face the Ashes', \"I Didn't Mean To\", 'Face the Ashes', 'The Moon And I (Ordinary Day Album Version)', 'Drop of Rain'], ['Something Girls', 'Soul Deep', 'Something Girls'], ['Insatiable (Instrumental Version)', 'Keepin It Real (Skit)', 'Insatiable (Instrumental Version)'], ['Pink World', 'Amor De Cabaret', 'Pink World']], [[-2.084503512943951, -9.854782667612026, -2.084503512943951, 1.2539055040354676, 1.2371586604773], [-1.19104819878307, -10.327012725878584, -2.1902929644805065], [-0.5161540970439424, 1.2618854578958216, 1.1797418265931099], [0.3281402817450563, 1.1868898245975303, -2.984192436642349]])\n"
     ]
    }
   ],
   "source": [
    "k = 3 #number of clusters\n",
    "\n",
    "#distance would be our defined distance function\n",
    "\n",
    "def dtos(song, playlist): #distance to other songs (sum of distances to all songs in the playlist\n",
    "    return np.sum([distance(othersong, song) for othersong in playlist])\n",
    "    \n",
    "def find_starting_points(playlist, k):\n",
    "    all_distances = np.array([dtos(song, playlist) for song in playlist])\n",
    "    sort_indices = np.argsort(all_distances)\n",
    "    starting_points = sort_indices[:k]\n",
    "    return starting_points\n",
    "\n",
    "#print(find_starting_points(playlist,4))\n",
    "#print(playlist[3])\n",
    "#print(songrec)\n",
    "#print(distance(playlist[3], songrec))\n",
    "\n",
    "def cluster_songs(starting_points, k, pl, song):\n",
    "    #cluster songs in input playlist into k clusters with respective starting points in starting_points wrt distance to song\n",
    "    # where song is a recommended song\n",
    "    # pl is playlist\n",
    "    names = [[pl[start]['title']] for start in starting_points]\n",
    "    values = [[distance(pl[start], song)] for start in starting_points]\n",
    "\n",
    "    #print(res)#initialize array of k arrays each representing one cluster\n",
    "    for plsong in pl[0:]:\n",
    "        cluster = np.argsort(np.array([distance(plsong, pl[start]) for start in starting_points]))[0]\n",
    "        print(cluster)\n",
    "        #returns index in starting_points which cluster it corresponds to\n",
    "        names[cluster].append(plsong['title'])\n",
    "        values[cluster].append(distance(plsong, pl[cluster]))\n",
    "    \n",
    "    return names, values\n",
    "r = cluster_songs(find_starting_points(playlist, 4), 4, playlist, songrec)\n",
    "print(r)"
   ]
  },
  {
   "cell_type": "markdown",
   "id": "3f5d13d5-d9cc-4741-bd3e-3ff477b17398",
   "metadata": {},
   "source": [
    "# CLOSEST N SONGS IN DISTANCE"
   ]
  },
  {
   "cell_type": "code",
   "execution_count": 100,
   "id": "23db360a-1088-4fbf-bbd3-6da594c847f8",
   "metadata": {},
   "outputs": [
    {
     "name": "stdout",
     "output_type": "stream",
     "text": [
      "[\"I Didn't Mean To\", 'Face the Ashes', 'Something Girls']\n"
     ]
    }
   ],
   "source": [
    "def closest_n(song, pl, n):\n",
    "    #song is a recommended song\n",
    "    #pl playlist from which song was recommended\n",
    "    #returns closest n songs in an array, closest to furthest\n",
    "\n",
    "    distances = np.array([distance(song, plsong) for plsong in pl])\n",
    "    sort_distances = np.argsort(distances)\n",
    "    n_indices = sort_distances[:n]\n",
    "    return [playlist[i]['title'] for i in n_indices]\n",
    "\n",
    "print(closest_n(songrec, playlist, 3))\n",
    "    "
   ]
  },
  {
   "cell_type": "markdown",
   "id": "1393c07d-50fa-4c6c-a060-c4e2836f50a8",
   "metadata": {},
   "source": [
    "# Cool bar graph with different components"
   ]
  },
  {
   "cell_type": "code",
   "execution_count": 101,
   "id": "b528d47c-add3-485a-a291-1466a9e72cdb",
   "metadata": {},
   "outputs": [],
   "source": [
    "def bar_graph_data(songrec, pl, alphas = [1,1,1,1,1]):\n",
    "    hottness = [distance(songrec, song, alphas, 'hot') for song in pl]\n",
    "    loudness = [distance(songrec, song, alphas, 'loud') for song in pl]\n",
    "    tempo = [distance(songrec, song, alphas, 'tempo') for song in pl]\n",
    "    similar_artists = [distance(songrec, song, alphas, 'similar_artists') for song in pl]\n",
    "    shared_terms = [distance(songrec, song, alphas, 'shared_terms') for song in pl]\n",
    "\n",
    "    return hottness, loudness, tempo, similar_artists, shared_terms"
   ]
  },
  {
   "cell_type": "code",
   "execution_count": 109,
   "id": "7aa406e2-40d2-49d8-8321-8ffb1c23ce17",
   "metadata": {},
   "outputs": [
    {
     "data": {
      "image/png": "[encoded data removed]",
      "text/plain": [
       "<Figure size 1000x600 with 1 Axes>"
      ]
     },
     "metadata": {},
     "output_type": "display_data"
    }
   ],
   "source": [
    "\n",
    "#DATA\n",
    "\n",
    "# define songrec\n",
    "# define playlist\n",
    "alphas = [1,1,1,1,1]\n",
    "\n",
    "hottness, loudness, tempo, similar_artists, shared_terms = bar_graph_data(songrec, playlist, alphas)\n",
    "names = []\n",
    "for song in playlist:\n",
    "    names.append(song['title'])\n",
    "data = {\n",
    "    'Playlist songs' : [1,2,3,4,5,6,7,8,9],\n",
    "    'hottness' : hottness[1:],\n",
    "    'loudness' : loudness[1:],\n",
    "    'tempo' : tempo[1:],\n",
    "    'similar artists' : similar_artists[1:],\n",
    "    'shared terms' : shared_terms[1:] #side bar plot\n",
    "}\n",
    "\n",
    "df = pd.DataFrame(data)\n",
    "\n",
    "# Set 'Year' as the index\n",
    "df.set_index('Playlist songs', inplace=True)\n",
    "\n",
    "# Plotting the stacked bar chart\n",
    "fig, ax = plt.subplots(figsize=(10, 6))\n",
    "\n",
    "# Plot the main stacked bars\n",
    "df[['hottness', 'loudness', 'tempo', 'similar artists']].plot(kind='bar', stacked=True, ax=ax)\n",
    "\n",
    "# Manually add the separate bar next to each group\n",
    "bar_width = 0.2\n",
    "x = np.arange(len(df.index))  # the label locations\n",
    "separate_bar_x = x + bar_width  # position for the separate bar\n",
    "\n",
    "ax.bar(separate_bar_x, df['shared terms'], width=bar_width, label='shared terms', color='orange')\n",
    "\n",
    "# Adding labels and title\n",
    "ax.set_xlabel('Playlist')\n",
    "ax.set_ylabel('Distances')\n",
    "ax.set_title('Distances in terms to all songs in playlist')\n",
    "\n",
    "# Setting x-ticks to be in the middle of the main and separate bars\n",
    "ax.set_xticks(x + bar_width / 2)\n",
    "ax.set_xticklabels(df.index)\n",
    "\n",
    "# Adding a legend\n",
    "ax.legend()\n",
    "\n",
    "# Adjust layout to make room for the separate bars\n",
    "plt.tight_layout()\n",
    "\n",
    "# Show plot\n",
    "plt.show()\n",
    "    "
   ]
  },
  {
   "cell_type": "code",
   "execution_count": null,
   "id": "2833c473-3e5c-426a-bcf1-c0567e90f211",
   "metadata": {},
   "outputs": [],
   "source": []
  },
  {
   "cell_type": "code",
   "execution_count": null,
   "id": "5051c039-52c3-4c62-9ddf-d809048ea08c",
   "metadata": {},
   "outputs": [],
   "source": []
  }
 ],
 "metadata": {
  "kernelspec": {
   "display_name": "Python 3 (ipykernel)",
   "language": "python",
   "name": "python3"
  },
  "language_info": {
   "codemirror_mode": {
    "name": "ipython",
    "version": 3
   },
   "file_extension": ".py",
   "mimetype": "text/x-python",
   "name": "python",
   "nbconvert_exporter": "python",
   "pygments_lexer": "ipython3",
   "version": "3.11.3"
  }
 },
 "nbformat": 4,
 "nbformat_minor": 5
}
