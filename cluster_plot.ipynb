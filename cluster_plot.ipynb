{
 "cells": [
  {
   "cell_type": "code",
   "execution_count": 116,
   "id": "85fc0eba-c3a6-4335-b4c1-ee9a269b68eb",
   "metadata": {},
   "outputs": [],
   "source": [
    "import numpy as np\n",
    "\n",
    "import matplotlib.pyplot as plt\n",
    "import matplotlib.colors as colors"
   ]
  },
  {
   "cell_type": "code",
   "execution_count": 161,
   "id": "7b8d264c-d0bd-41cd-ae38-a71cf53216b9",
   "metadata": {},
   "outputs": [],
   "source": [
    "def cluster_plot(distance_array, songs, size=(7,6)):\n",
    "\n",
    "    size_of_points = 7\n",
    "\n",
    "    k = len(distance_array)\n",
    "    l = len(songs)\n",
    "\n",
    "    if k != l or [len(kk) for kk in distance_array] != [len(ll) for ll in songs]:\n",
    "        print(\"error with the input arrays\")\n",
    "        return \n",
    "              \n",
    "    if k > 4 :\n",
    "        print(\"too many clusters\")\n",
    "        return \n",
    "         \n",
    "    x_min, x_max, y_min, y_max = -1, 1, -1, 1\n",
    "    \n",
    "    if k>=1:\n",
    "        \n",
    "        first = np.array(distance_array[0])\n",
    "        x_max = np.max(first) + 1\n",
    "        \n",
    "    if k>=2:\n",
    "        \n",
    "        second = -np.array(distance_array[1])\n",
    "        x_min = min(second) - 1 \n",
    "        \n",
    "    if k>=3:\n",
    "        \n",
    "        third = np.array(distance_array[2])\n",
    "        y_max = np.max(third) + 1  \n",
    "        \n",
    "    if k>=4:\n",
    "        \n",
    "        fourth = -np.array(distance_array[3])\n",
    "        y_min = np.min(fourth) - 1\n",
    "        \n",
    "    fig = plt.figure(figsize=size)\n",
    "\n",
    "    plt.xlim(x_min, x_max)\n",
    "    plt.ylim(y_min, y_max)\n",
    "\n",
    "    plt.plot(np.linspace(x_min, x_max, 100), np.zeros(100), color = 'k')\n",
    "    \n",
    "    if k >=3 :\n",
    "        plt.plot(np.zeros(100), np.linspace(y_min, y_max, 100), color = \"k\")\n",
    "        \n",
    "    plt.plot([x_min - 2, 0, x_max + 2], [y_min - 2, 0, y_max + 2], color = 'r', marker='o', markersize = size_of_points, linestyle=\"\")\n",
    "\n",
    "    \n",
    "    if k >= 1 :\n",
    "        zeros = np.zeros(len(first))\n",
    "\n",
    "        plt.plot(first, zeros, color='m', marker='o', markersize = size_of_points, linestyle=\"\")\n",
    "        for i in range(len(first)):\n",
    "            plt.text(first[i], -0.5, str(i+1), ha='center', va='top', color='m')\n",
    "        \n",
    "    if k >= 2 :\n",
    "        zeros = np.zeros(len(second))\n",
    "\n",
    "        plt.plot(second, zeros, color='c', marker=\"o\", markersize = size_of_points, linestyle=\"\")\n",
    "        for i in range(len(second)):\n",
    "            plt.text(second[i], -0.5, str(i+1), ha='center', va='top', color='c')\n",
    "    \n",
    "    if k >= 3 :\n",
    "        zeros = np.zeros(len(third))\n",
    "\n",
    "        plt.plot(zeros, third, color='y', marker=\"o\", markersize = size_of_points, linestyle=\"\")\n",
    "        for i in range(len(third)):\n",
    "            plt.text(0.2, third[i], str(i+1), ha='center', va='top', color='y')\n",
    "            \n",
    "    if k == 4 :\n",
    "        zeros = np.zeros(len(fourth))\n",
    "\n",
    "        plt.plot(zeros, fourth, color='g', marker=\"o\", markersize = size_of_points, linestyle=\"\")\n",
    "        for i in range(len(fourth)):\n",
    "            plt.text(0.2, fourth[i], str(i+1), ha='center', va='top', color='g')\n",
    "\n",
    "    plt.show()\n",
    "\n",
    "    colors = ['\\nMagenta', 'Cyan', 'Yellow', 'Green']\n",
    "\n",
    "    for j in range(k):\n",
    "        print(colors[j]+\":\\n\")\n",
    "        for i in range(len(songs[j])):\n",
    "            print(\"\\t\"+str(i+1)+\": \"+songs[j][i]+\" \\n\")\n",
    "            "
   ]
  },
  {
   "cell_type": "code",
   "execution_count": 166,
   "id": "2bc1d725-04dc-4ee9-b4fc-139895a509d6",
   "metadata": {},
   "outputs": [
    {
     "data": {
      "image/png": "[encoded data removed]",
      "text/plain": [
       "<Figure size 700x600 with 1 Axes>"
      ]
     },
     "metadata": {},
     "output_type": "display_data"
    },
    {
     "name": "stdout",
     "output_type": "stream",
     "text": [
      "\n",
      "Magenta:\n",
      "\n",
      "\t1: hello \n",
      "\n",
      "\t2: hello \n",
      "\n",
      "\t3: world \n",
      "\n",
      "Cyan:\n",
      "\n",
      "\t1: hello \n",
      "\n",
      "\t2: hello \n",
      "\n",
      "\t3: world \n",
      "\n",
      "\t4: hello \n",
      "\n",
      "Yellow:\n",
      "\n",
      "\t1: world \n",
      "\n",
      "\t2: hello \n",
      "\n",
      "\t3: hello \n",
      "\n"
     ]
    }
   ],
   "source": [
    "#cluster_plot([[['hello',1],['world',2],['hello',3]], [['hello',2], ['world',3], ['hello',1]], [['world',3], ['hello',6],['hello',5]], [['hello',5],['world',9],['world',2]]])\n",
    "distance_array = [[2,3,1], [1,3,6,7],[5,5,9]]\n",
    "songs = [['hello','hello','world' ],['hello', 'hello','world', 'hello'], ['world', 'hello', 'hello']]\n",
    "cluster_plot(distance_array, songs)"
   ]
  },
  {
   "cell_type": "code",
   "execution_count": null,
   "id": "2cf2dc0b-a873-445b-90b8-51431a74a4b8",
   "metadata": {},
   "outputs": [],
   "source": []
  }
 ],
 "metadata": {
  "kernelspec": {
   "display_name": "Python 3 (ipykernel)",
   "language": "python",
   "name": "python3"
  },
  "language_info": {
   "codemirror_mode": {
    "name": "ipython",
    "version": 3
   },
   "file_extension": ".py",
   "mimetype": "text/x-python",
   "name": "python",
   "nbconvert_exporter": "python",
   "pygments_lexer": "ipython3",
   "version": "3.11.7"
  }
 },
 "nbformat": 4,
 "nbformat_minor": 5
}
