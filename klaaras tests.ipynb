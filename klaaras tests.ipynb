{
 "cells": [
  {
   "cell_type": "code",
   "execution_count": 1,
   "id": "572406fc-59d8-420f-9f48-33af22fabf18",
   "metadata": {},
   "outputs": [],
   "source": [
    "import pandas as pd\n",
    "import numpy as np\n",
    "import build as bd\n",
    "import random"
   ]
  },
  {
   "cell_type": "code",
   "execution_count": 2,
   "id": "159eb94e-f815-4df6-b2ac-580bfe4f80b5",
   "metadata": {},
   "outputs": [],
   "source": [
    "data1 = bd.load_data(\"output.csv\")"
   ]
  },
  {
   "cell_type": "code",
   "execution_count": 3,
   "id": "cbcc3c29-8e9c-4597-966d-312b76b26cb8",
   "metadata": {},
   "outputs": [],
   "source": [
    "data = data1.copy()"
   ]
  },
  {
   "cell_type": "code",
   "execution_count": 4,
   "id": "be7b4eaa-621b-4c10-8cf3-2131fc2835ef",
   "metadata": {},
   "outputs": [],
   "source": [
    "# Select specific columns using loc\n",
    "#df_selected = data.loc[:, ['artist_name', 'title', 'release', 'artist_terms']]\n",
    "\n",
    "# Display the selected columns\n",
    "#df_selected.sample(30)\n",
    "\n"
   ]
  },
  {
   "cell_type": "code",
   "execution_count": 5,
   "id": "8f6fbf8e-255d-4203-a46a-0fa8f87851a3",
   "metadata": {},
   "outputs": [
    {
     "data": {
      "text/html": [
       "<div>\n",
       "<style scoped>\n",
       "    .dataframe tbody tr th:only-of-type {\n",
       "        vertical-align: middle;\n",
       "    }\n",
       "\n",
       "    .dataframe tbody tr th {\n",
       "        vertical-align: top;\n",
       "    }\n",
       "\n",
       "    .dataframe thead th {\n",
       "        text-align: right;\n",
       "    }\n",
       "</style>\n",
       "<table border=\"1\" class=\"dataframe\">\n",
       "  <thead>\n",
       "    <tr style=\"text-align: right;\">\n",
       "      <th></th>\n",
       "      <th>0</th>\n",
       "      <th>1</th>\n",
       "      <th>2</th>\n",
       "    </tr>\n",
       "  </thead>\n",
       "  <tbody>\n",
       "    <tr>\n",
       "      <th>0</th>\n",
       "      <td>Backstreet Boys</td>\n",
       "      <td>Larger Than Life</td>\n",
       "      <td>Just Want You To Know</td>\n",
       "    </tr>\n",
       "    <tr>\n",
       "      <th>1</th>\n",
       "      <td>Backstreet Boys</td>\n",
       "      <td>PDA</td>\n",
       "      <td>This Is Us</td>\n",
       "    </tr>\n",
       "    <tr>\n",
       "      <th>2</th>\n",
       "      <td>Backstreet Boys</td>\n",
       "      <td>The Call</td>\n",
       "      <td>Black &amp; Blue</td>\n",
       "    </tr>\n",
       "    <tr>\n",
       "      <th>3</th>\n",
       "      <td>Backstreet Boys</td>\n",
       "      <td>Shape Of My Heart</td>\n",
       "      <td>Black &amp; Blue</td>\n",
       "    </tr>\n",
       "    <tr>\n",
       "      <th>4</th>\n",
       "      <td>Foo Fighters</td>\n",
       "      <td>Hell</td>\n",
       "      <td>In Your Honor</td>\n",
       "    </tr>\n",
       "    <tr>\n",
       "      <th>...</th>\n",
       "      <td>...</td>\n",
       "      <td>...</td>\n",
       "      <td>...</td>\n",
       "    </tr>\n",
       "    <tr>\n",
       "      <th>324</th>\n",
       "      <td>Janet Jackson</td>\n",
       "      <td>Hold On Baby</td>\n",
       "      <td>Janet</td>\n",
       "    </tr>\n",
       "    <tr>\n",
       "      <th>325</th>\n",
       "      <td>Janet Jackson</td>\n",
       "      <td>When I Think Of You</td>\n",
       "      <td>Control</td>\n",
       "    </tr>\n",
       "    <tr>\n",
       "      <th>326</th>\n",
       "      <td>Janet Jackson</td>\n",
       "      <td>Again</td>\n",
       "      <td>Janet</td>\n",
       "    </tr>\n",
       "    <tr>\n",
       "      <th>327</th>\n",
       "      <td>Janet Jackson</td>\n",
       "      <td>Greatest X</td>\n",
       "      <td>Discipline</td>\n",
       "    </tr>\n",
       "    <tr>\n",
       "      <th>328</th>\n",
       "      <td>Janet Jackson</td>\n",
       "      <td>Again (Instrumental)</td>\n",
       "      <td>Again</td>\n",
       "    </tr>\n",
       "  </tbody>\n",
       "</table>\n",
       "<p>329 rows × 3 columns</p>\n",
       "</div>"
      ],
      "text/plain": [
       "                   0                     1                      2\n",
       "0    Backstreet Boys      Larger Than Life  Just Want You To Know\n",
       "1    Backstreet Boys                   PDA             This Is Us\n",
       "2    Backstreet Boys              The Call           Black & Blue\n",
       "3    Backstreet Boys     Shape Of My Heart           Black & Blue\n",
       "4       Foo Fighters                  Hell          In Your Honor\n",
       "..               ...                   ...                    ...\n",
       "324    Janet Jackson          Hold On Baby                  Janet\n",
       "325    Janet Jackson   When I Think Of You                Control\n",
       "326    Janet Jackson                 Again                  Janet\n",
       "327    Janet Jackson            Greatest X             Discipline\n",
       "328    Janet Jackson  Again (Instrumental)                  Again\n",
       "\n",
       "[329 rows x 3 columns]"
      ]
     },
     "metadata": {},
     "output_type": "display_data"
    }
   ],
   "source": [
    "mylist = ['Backstreet Boys', 'Foo Fighters', 'Nine Inch Nails', 'Nightwish', 'Panic At The Disco', 'Christina Aguilera', 'Shakira',\n",
    "          'The Police', 'Metallica', 'Radiohead', 'Dolly Parton', 'Led Zeppelin', 'Kelly Clarkson', 'John Legend', 'Red Hot Chili Peppers',\n",
    "          'Michael Jackson', 'Jennifer Lopez', 'Britney Spears', 'Rihanna', 'U2', 'David Bowie', 'Beyoncé', 'The White Stripes', 'The Cardigans', 'Oasis',\n",
    "          'Fall Out Boy', 'Slipknot', 'Bon Jovi', 'Black Eyed Peas', 'Ben E. King', 'The Beatles', 'Nickelback', 'Andy Griffith', 'Mariah Carey',\n",
    "          'Janet Jackson', 'Madonna', 'Cher', 'Céline Dion', 'Coldplay', 'Alicia Keys', 'My Chemical Romance', 'John Mayer', 'Slipknot', 'Rick Astley',\n",
    "          'Pink Floyd', 'Aerosmith', 'Nickelback featuring Kid Rock', 'Fergie', 'Nirvana', 'Chris Brown', 'Maroon 5', 'Bruce Springstreen',\n",
    "          'Amy Winehouse', 'Bon Jovi', 'Jessica Simpson' 'Kaija Koo', 'Jackie WIlson', 'Indica', 'Hanoi Rocks', 'Yölintu',\n",
    "          'Justin Timberlake', 'Owl City', 'Evanescence', 'Gorillaz', 'Electric Light Orchestra', 'Republica', \n",
    "          'The Rascals', 'Led Zeppelin', 'The Cardigans', 'Janet Jackson']\n",
    "result = []\n",
    "for artist in mylist:\n",
    "    f = data[data['artist_name'] == artist][['artist_name', 'title', 'release']]\n",
    "    result.extend(f.values.tolist())\n",
    "display(pd.DataFrame(result))\n",
    "# Print the resulting list of lists\n",
    "#for item in result:\n",
    "#    print(item)\n",
    "\n"
   ]
  },
  {
   "cell_type": "code",
   "execution_count": 6,
   "id": "5c1463c0-8a6e-4d8d-befa-97f3da3bcc39",
   "metadata": {},
   "outputs": [],
   "source": [
    "playlist = ['She Will Be Loved']\n",
    "#, 'What Goes Around...Comes Around', 'Never Gonna Give You Up']\n",
    "playlist2= ['London Bridge', 'Valerie', 'Ring The Alarm', 'Single Ladies (Put A Ring On It)','Good Girl Gone Bad', 'Oops!...I Did It Again']"
   ]
  },
  {
   "cell_type": "code",
   "execution_count": 7,
   "id": "a86a3e0f-7839-4553-ae9f-e6475c2a6153",
   "metadata": {},
   "outputs": [],
   "source": [
    "#matrix = bd.build_distances(data)\n"
   ]
  },
  {
   "cell_type": "code",
   "execution_count": 8,
   "id": "96e8bd1e-a588-43d8-984a-a7703b8ac557",
   "metadata": {},
   "outputs": [],
   "source": [
    "def recommend(song_list: list, df: pd.core.frame.DataFrame, k: int, distance_matrix = None):\n",
    "    #print(song_list)\n",
    "    playlist, indexes = bd.format_input(song_list, df)\n",
    "    print(\"input formatted\")\n",
    "    if isinstance(distance_matrix, type(None)):\n",
    "        distances, total_d = bd.compute_distance_to_playlist(playlist, indexes, df)\n",
    "    else:\n",
    "        print(\"computing distances to playlist...\")\n",
    "        distances, total_d = bd.select_distance_to_playlist(playlist, indexes, distance_matrix)    \n",
    "    print(\"distances computed\")\n",
    "    #display(pd.DataFrame(distances))\n",
    "    output_df = bd.get_k_recommendations(total_d, k, df)\n",
    "    print(\"received recommendations\")\n",
    "    display(output_df)\n",
    "    return distances, total_d"
   ]
  },
  {
   "cell_type": "code",
   "execution_count": 9,
   "id": "8a13de69-7795-4d07-8fb4-75806f369ccd",
   "metadata": {},
   "outputs": [
    {
     "name": "stdout",
     "output_type": "stream",
     "text": [
      "[3066, 6017, 2919, 4779, 9436, 4695, 1235, 8521, 7851]\n"
     ]
    }
   ],
   "source": [
    "playlist = ['London Bridge', 'Valerie', 'Ring The Alarm', 'Single Ladies (Put A Ring On It)', 'Good Girl Gone Bad', 'Oops!...I Did It Again']\n",
    "data_reset = data.reset_index()\n",
    "\n",
    "result = []\n",
    "for song in playlist:\n",
    "    f = data_reset[data['title'] == song]\n",
    "    result.extend(f.values.tolist())\n",
    "# Print the resulting list of lists\n",
    "songs = pd.DataFrame(result)\n",
    "indexes = songs[0].tolist()\n",
    "print(indexes)"
   ]
  },
  {
   "cell_type": "code",
   "execution_count": 10,
   "id": "70b9b85f-f55a-44e6-b558-298453dfb622",
   "metadata": {},
   "outputs": [],
   "source": [
    "#with precomputed matrix\n",
    "\n",
    "#smallmatrix, total_distances = bd.select_distance_to_playlist(playlist, song_indices, matrix)"
   ]
  },
  {
   "cell_type": "code",
   "execution_count": null,
   "id": "95777b29-ca47-4d13-8eeb-a1a500886e83",
   "metadata": {},
   "outputs": [
    {
     "data": {
      "text/html": [
       "<div>\n",
       "<style scoped>\n",
       "    .dataframe tbody tr th:only-of-type {\n",
       "        vertical-align: middle;\n",
       "    }\n",
       "\n",
       "    .dataframe tbody tr th {\n",
       "        vertical-align: top;\n",
       "    }\n",
       "\n",
       "    .dataframe thead th {\n",
       "        text-align: right;\n",
       "    }\n",
       "</style>\n",
       "<table border=\"1\" class=\"dataframe\">\n",
       "  <thead>\n",
       "    <tr style=\"text-align: right;\">\n",
       "      <th></th>\n",
       "      <th>0</th>\n",
       "      <th>1</th>\n",
       "      <th>2</th>\n",
       "    </tr>\n",
       "  </thead>\n",
       "  <tbody>\n",
       "    <tr>\n",
       "      <th>0</th>\n",
       "      <td>London Bridge</td>\n",
       "      <td>Fergie</td>\n",
       "      <td>London Bridge</td>\n",
       "    </tr>\n",
       "    <tr>\n",
       "      <th>1</th>\n",
       "      <td>Valerie</td>\n",
       "      <td>Amy Winehouse</td>\n",
       "      <td>ESSENTIAL 08</td>\n",
       "    </tr>\n",
       "    <tr>\n",
       "      <th>2</th>\n",
       "      <td>Ring The Alarm</td>\n",
       "      <td>Beyoncé</td>\n",
       "      <td>Ring The Alarm (Urban Mixes)</td>\n",
       "    </tr>\n",
       "    <tr>\n",
       "      <th>3</th>\n",
       "      <td>Ring The Alarm</td>\n",
       "      <td>Beyoncé</td>\n",
       "      <td>The Beyonce Experience Live Audio</td>\n",
       "    </tr>\n",
       "    <tr>\n",
       "      <th>4</th>\n",
       "      <td>Ring The Alarm</td>\n",
       "      <td>Naughty By Nature</td>\n",
       "      <td>Nineteen Naughty Nine Nature's Fury</td>\n",
       "    </tr>\n",
       "    <tr>\n",
       "      <th>5</th>\n",
       "      <td>Single Ladies (Put A Ring On It)</td>\n",
       "      <td>Beyoncé</td>\n",
       "      <td>Single Ladies (Put A Ring On It) - Dance Remixes</td>\n",
       "    </tr>\n",
       "    <tr>\n",
       "      <th>6</th>\n",
       "      <td>Good Girl Gone Bad</td>\n",
       "      <td>Rihanna</td>\n",
       "      <td>Good Girl Gone Bad: The Remixes</td>\n",
       "    </tr>\n",
       "    <tr>\n",
       "      <th>7</th>\n",
       "      <td>Good Girl Gone Bad</td>\n",
       "      <td>Rihanna</td>\n",
       "      <td>Good Girl Gone Bad: Reloaded</td>\n",
       "    </tr>\n",
       "    <tr>\n",
       "      <th>8</th>\n",
       "      <td>Oops!...I Did It Again</td>\n",
       "      <td>Britney Spears</td>\n",
       "      <td>The Singles Collection</td>\n",
       "    </tr>\n",
       "  </tbody>\n",
       "</table>\n",
       "</div>"
      ],
      "text/plain": [
       "                                  0                  1  \\\n",
       "0                     London Bridge             Fergie   \n",
       "1                           Valerie      Amy Winehouse   \n",
       "2                    Ring The Alarm            Beyoncé   \n",
       "3                    Ring The Alarm            Beyoncé   \n",
       "4                    Ring The Alarm  Naughty By Nature   \n",
       "5  Single Ladies (Put A Ring On It)            Beyoncé   \n",
       "6                Good Girl Gone Bad            Rihanna   \n",
       "7                Good Girl Gone Bad            Rihanna   \n",
       "8            Oops!...I Did It Again     Britney Spears   \n",
       "\n",
       "                                                  2  \n",
       "0                                     London Bridge  \n",
       "1                                      ESSENTIAL 08  \n",
       "2                      Ring The Alarm (Urban Mixes)  \n",
       "3                 The Beyonce Experience Live Audio  \n",
       "4               Nineteen Naughty Nine Nature's Fury  \n",
       "5  Single Ladies (Put A Ring On It) - Dance Remixes  \n",
       "6                   Good Girl Gone Bad: The Remixes  \n",
       "7                      Good Girl Gone Bad: Reloaded  \n",
       "8                            The Singles Collection  "
      ]
     },
     "metadata": {},
     "output_type": "display_data"
    },
    {
     "name": "stdout",
     "output_type": "stream",
     "text": [
      "input formatted\n"
     ]
    }
   ],
   "source": [
    "#without precomputed matrix\n",
    "input = [[str(data.iloc[i]['title']), str(data.iloc[i]['artist_name']),str(data.iloc[i]['release'])] for i in indexes]\n",
    "display(pd.DataFrame(input))\n",
    "distances, total_d = recommend(input, data.copy(), 10)"
   ]
  },
  {
   "cell_type": "code",
   "execution_count": null,
   "id": "bc2966c5-a4a5-4167-8e24-9e66a1bbc847",
   "metadata": {},
   "outputs": [],
   "source": [
    "k = 3\n",
    "recs = bd.get_k_recommendations(total_distances, k, data)"
   ]
  },
  {
   "cell_type": "code",
   "execution_count": null,
   "id": "3d3aea48-2fd2-4e41-b373-f3c7ad620bec",
   "metadata": {},
   "outputs": [],
   "source": [
    "print(recs)"
   ]
  }
 ],
 "metadata": {
  "kernelspec": {
   "display_name": "Python 3 (ipykernel)",
   "language": "python",
   "name": "python3"
  },
  "language_info": {
   "codemirror_mode": {
    "name": "ipython",
    "version": 3
   },
   "file_extension": ".py",
   "mimetype": "text/x-python",
   "name": "python",
   "nbconvert_exporter": "python",
   "pygments_lexer": "ipython3",
   "version": "3.11.3"
  }
 },
 "nbformat": 4,
 "nbformat_minor": 5
}
