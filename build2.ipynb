{
 "cells": [
  {
   "cell_type": "code",
   "execution_count": 2,
   "id": "1bdcbc3d-674c-4756-88aa-34b2fd0401c2",
   "metadata": {},
   "outputs": [],
   "source": [
    "import pandas as pd\n",
    "import numpy as np"
   ]
  },
  {
   "cell_type": "code",
   "execution_count": 3,
   "id": "d30cec2a-57a7-4f8f-a6f7-b503089fd992",
   "metadata": {},
   "outputs": [],
   "source": [
    "def load_data(filename):\n",
    "    data = pd.read_csv(filename)\n",
    "    data['similar'] = data['similar'].apply(lambda x: x.split('/'))\n",
    "    data['artist_terms'] = data['artist_terms'].apply(lambda x: str(x).split('/'))\n",
    "    data['artist_terms_weights'] = data['artist_terms_weights'].apply(lambda x: str(x).split('/'))\n",
    "    \n",
    "    l_max = data['loudness'].max()\n",
    "    l_min = data['loudness'].min()\n",
    "    \n",
    "    t_max = data['tempo'].max()\n",
    "    t_min = data['tempo'].min()\n",
    "    \n",
    "    data['tempo'] = (data['tempo'] - t_min)/(t_max - t_min)\n",
    "    data['loudness'] = (data['loudness'] - l_min)/(l_max - l_min)\n",
    "\n",
    "    return data"
   ]
  },
  {
   "cell_type": "code",
   "execution_count": 4,
   "id": "21158439-24ff-4964-8eed-3da8990c20a7",
   "metadata": {},
   "outputs": [],
   "source": [
    "def distance(song1, song2, alphas = [1,1,1,1,1]):\n",
    "    \"\"\"\n",
    "    song1, song2 : python native lists    format : [artist, title, album, similar, hottness, terms, terms-weights, loudness, tempo]\n",
    "    alphas : python native list\n",
    "    \n",
    "    \"\"\"\n",
    "    \n",
    "    alpha_hot, alpha_loud, alpha_tempo, alpha_similar, alpha_terms = alphas\n",
    "    artist, title1, album1, similar1, hot1, terms1, weights1, loud1, tempo1 = song1\n",
    "    artist2, title2, album2, similar2, hot2, terms2, weights2, loud2, tempo2 = song2\n",
    "    \n",
    "    distance = 0\n",
    "\n",
    "    distance += alpha_hot*abs(hot1-hot2) + alpha_loud*abs(loud1-loud2) + alpha_tempo*abs(tempo1-tempo2)\n",
    "    distance += alpha_similar*(1 - len([singer for singer in similar1 if singer in similar2])/100)\n",
    "\n",
    "    shared_terms = [term for term in terms1 if (term in terms2 and term != '')]\n",
    "    shared_weights1, shared_weights2 = [float(weights1[terms1.index(term)]) for term in shared_terms], [float(weights2[terms2.index(term)]) for term in shared_terms]\n",
    "    distance -= alpha_terms*sum([0.5*(shared_weights1[i] + shared_weights2[i]) for i in range(len(shared_terms)) ])\n",
    "\n",
    "    return distance"
   ]
  },
  {
   "cell_type": "code",
   "execution_count": 5,
   "id": "01082289-f5fb-4726-b4bc-e32236ea36a1",
   "metadata": {},
   "outputs": [],
   "source": [
    "def build_distances(df: pd.core.frame.DataFrame):\n",
    "    M = len(df)\n",
    "    distances = [[0 for i in range(M)] for j in range(M)]\n",
    "    for j in range(M):\n",
    "        for i in range(M):\n",
    "            distances[j][i] = distance(df.iloc[j], df.iloc[i])\n",
    "    return distances"
   ]
  },
  {
   "cell_type": "code",
   "execution_count": null,
   "id": "bdb264d9-49d6-41f5-9c6b-846a0b3fd367",
   "metadata": {},
   "outputs": [],
   "source": []
  },
  {
   "cell_type": "code",
   "execution_count": null,
   "id": "418ed350-28af-4a41-b009-783bd848af81",
   "metadata": {},
   "outputs": [],
   "source": []
  }
 ],
 "metadata": {
  "kernelspec": {
   "display_name": "Python 3 (ipykernel)",
   "language": "python",
   "name": "python3"
  },
  "language_info": {
   "codemirror_mode": {
    "name": "ipython",
    "version": 3
   },
   "file_extension": ".py",
   "mimetype": "text/x-python",
   "name": "python",
   "nbconvert_exporter": "python",
   "pygments_lexer": "ipython3",
   "version": "3.11.3"
  }
 },
 "nbformat": 4,
 "nbformat_minor": 5
}
