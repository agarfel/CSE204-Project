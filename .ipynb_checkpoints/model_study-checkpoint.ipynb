{
 "cells": [
  {
   "cell_type": "markdown",
   "id": "0b8b8144-301a-4d06-895f-f3be488f662c",
   "metadata": {},
   "source": [
    "MODEL STUDY"
   ]
  },
  {
   "cell_type": "code",
   "execution_count": null,
   "id": "312cb787-2814-4562-8467-939f53f79a29",
   "metadata": {},
   "outputs": [],
   "source": [
    "import pandas as pd\n",
    "import numpy as np\n",
    "\n",
    "import matplotlib.pyplot as plt\n",
    "import matplotlib.colors as colors\n",
    "from mpl_toolkits.mplot3d import axes3d"
   ]
  },
  {
   "cell_type": "code",
   "execution_count": 7,
   "id": "8ec1a02a-67f8-42f3-a5b8-ee14494ce7e1",
   "metadata": {},
   "outputs": [],
   "source": [
    "k = 3 #number of clusters\n",
    "\n",
    "#distance would be our defined distance function\n",
    "\n",
    "def dtos(song, playlist): #distance to other songs (sum of distances to all songs in the playlist\n",
    "    return np.sum([distance(othersong, song) for othersong in playlist])\n",
    "    \n",
    "def find_starting_points(playlist, k):\n",
    "    all_distances = np.array([dtos(song, playlist) for song in playlist])\n",
    "    sort_indices = np.argsort(all_distances)\n",
    "    starting_points = sort_indices[:k]\n",
    "    return starting_points\n",
    "\n",
    "def cluster_songs(starting_points, k, pl, song):\n",
    "    #cluster songs in input playlist into k clusters with respective starting points in starting_points wrt distance to song\n",
    "    # where song is a recommended song\n",
    "    # pl is playlist\n",
    "\n",
    "    res = np.array([[distance(start, song)] for start in starting_points]) #initialize array of k arrays each representing one cluster\n",
    "    for plsong in pl:\n",
    "        cluster = np.argsort(np.array([distance(plsong, start) for start in starting_points]))[0]\n",
    "        #returns index in starting_points which cluster it corresponds to\n",
    "        np.append(res[cluster], distance(plsong,song))\n",
    "\n",
    "    return res\n",
    "    \n"
   ]
  },
  {
   "cell_type": "code",
   "execution_count": null,
   "id": "da0e38b8-289f-4290-b100-6bd4c317509f",
   "metadata": {},
   "outputs": [],
   "source": []
  }
 ],
 "metadata": {
  "kernelspec": {
   "display_name": "Python 3 (ipykernel)",
   "language": "python",
   "name": "python3"
  },
  "language_info": {
   "codemirror_mode": {
    "name": "ipython",
    "version": 3
   },
   "file_extension": ".py",
   "mimetype": "text/x-python",
   "name": "python",
   "nbconvert_exporter": "python",
   "pygments_lexer": "ipython3",
   "version": "3.11.7"
  }
 },
 "nbformat": 4,
 "nbformat_minor": 5
}
