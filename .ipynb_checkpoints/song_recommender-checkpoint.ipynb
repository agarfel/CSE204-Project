{
 "cells": [
  {
   "cell_type": "markdown",
   "id": "af118e80-cd1c-488b-be7f-f617930d99d3",
   "metadata": {},
   "source": [
    "# Song recommender project #"
   ]
  },
  {
   "cell_type": "markdown",
   "id": "c3b0d1a7-a4ca-4666-8fbf-bce10fef4535",
   "metadata": {},
   "source": [
    " Garcinuño Feliciano Angela <br>\n",
    " Huima Klaara <br>\n",
    " Massot Lucas "
   ]
  },
  {
   "cell_type": "code",
   "execution_count": 247,
   "id": "810f783f-37c8-4753-b852-1a7c7e77ceb8",
   "metadata": {},
   "outputs": [],
   "source": [
    "import pandas as pd\n",
    "import numpy as np\n",
    "\n",
    "import matplotlib.pyplot as plt\n",
    "import matplotlib.colors as colors\n",
    "from mpl_toolkits.mplot3d import axes3d"
   ]
  },
  {
   "cell_type": "code",
   "execution_count": 248,
   "id": "7d335c66-d56b-4dea-8c00-e949f3627d43",
   "metadata": {},
   "outputs": [],
   "source": [
    "# Settings\n",
    "k = 10 #number of songs to recommend\n",
    "n = 10 #length of input playlist\n",
    "\n"
   ]
  },
  {
   "cell_type": "code",
   "execution_count": 249,
   "id": "91470b26-ca48-45b6-b29e-369c2a439d98",
   "metadata": {},
   "outputs": [],
   "source": [
    "data = pd.read_csv(\"output.csv\")\n",
    "data['similar'] = data['similar'].apply(lambda x: x.split('/'))\n",
    "data['artist_terms'] = data['artist_terms'].apply(lambda x: str(x).split('/'))\n",
    "data['artist_terms_weights'] = data['artist_terms_weights'].apply(lambda x: str(x).split('/'))\n",
    "\n",
    "l_max = data['loudness'].max()\n",
    "l_min = data['loudness'].min()\n",
    "\n",
    "t_max = data['tempo'].max()\n",
    "t_min = data['tempo'].min()\n",
    "\n",
    "data['tempo'] = (data['tempo'] - t_min)/(t_max - t_min)\n",
    "data['loudness'] = (data['loudness'] - l_min)/(l_max - l_min)"
   ]
  },
  {
   "cell_type": "code",
   "execution_count": 250,
   "id": "1392dfd7-b470-4b37-84c6-9f08e45c023d",
   "metadata": {
    "scrolled": true
   },
   "outputs": [],
   "source": [
    "def distance(song1, song2, alphas = [1,1,1,1,1]):\n",
    "    \"\"\"\n",
    "    song1, song2 : python native lists    format : [artist, title, album, similar, hottness, terms, terms-weights, loudness, tempo]\n",
    "    alphas : python native list\n",
    "    \n",
    "    \"\"\"\n",
    "    \n",
    "    alpha_hot, alpha_loud, alpha_tempo, alpha_similar, alpha_terms = alphas\n",
    "    artist, title1, album1, similar1, hot1, terms1, weights1, loud1, tempo1 = song1\n",
    "    artist2, title2, album2, similar2, hot2, terms2, weights2, loud2, tempo2 = song2\n",
    "    \n",
    "    distance = 0\n",
    "\n",
    "    # hottness, loudness and tempo \n",
    "    distance += alpha_hot*abs(hot1-hot2) + alpha_loud*abs(loud1-loud2) + alpha_tempo*abs(tempo1-tempo2)\n",
    "    # similar artists \n",
    "    distance += alpha_similar*(1 - len([singer for singer in similar1 if singer in similar2])/100)\n",
    "\n",
    "    # artist terms (and weights)\n",

    "    shared_terms = [term for term in terms1 if (term in terms2 and term != '')]\n",
    "    shared_weights1, shared_weights2 = [float(weights1[terms1.index(term)]) for term in shared_terms], [float(weights2[terms2.index(term)]) for term in shared_terms]\n",
    "    distance -= alpha_terms*sum([0.5*(shared_weights1[i] + shared_weights2[i]) for i in range(len(shared_terms)) ])\n",
    "    \n",
    "    #print(\"hot: \" + str(alpha_hot*abs(hot1-hot2) )+ \" loud: \" + str(alpha_loud*abs(loud1-loud2)) + \" tempo: \", + str(alpha_tempo*abs(tempo1-tempo2) )+ \"similar: \" + \n",
    "    #str(alpha_similar*(1 - len([singer for singer in similar1 if singer in similar2])/100))+ \"terms: \" + str(alpha_terms*sum([0.5*(shared_weights1[i] + shared_weights2[i]) for i in range(len(shared_terms)) ])))\n",
    "    \n",
    "    return distance"
   ]
  },
  {
   "cell_type": "code",
   "execution_count": 251,
   "id": "ffc82ce0-9490-403d-adf3-4911ac8abd39",
   "metadata": {
    "scrolled": true
   },
   "outputs": [],
   "source": [
    "def build_distances(input: list, df: pd.core.frame.DataFrame):\n",
    "    N = len(input)\n",
    "    M = len(df)\n",
    "    distances = [[0 for i in range(N)] for j in range(M)]\n",
    "    total_d = [0]*M\n",
    "    for j in range(M):\n",
    "        for i in range(N):\n",
    "            distances[j][i] = distance(df.iloc[j], input[i])\n",
    "        total_d[j] = sum(distances[j])\n",
    "\n",
    "    return distances, total_d"
   ]
  },
  {
   "cell_type": "code",
   "execution_count": 252,
   "id": "87ae7372-8cf4-4e58-acf1-badcec308810",
   "metadata": {},
   "outputs": [],
   "source": [
    "def build_df(input: list, df: pd.core.frame.DataFrame):\n",
    "    input_songs = [x.upper() for x in input]\n",
    "\n",
    "    indexes = []\n",
    "    result = []\n",
    "    for i in range(len(df)):\n",
    "        if str(df.iloc[i]['title']).upper() in input_songs:\n",
    "            result.append(df.iloc[i])\n",
    "            indexes.append(i)\n",
    "    for i in indexes:\n",
    "        df.drop(i, inplace=True)\n",
    "    return result\n",
    "    "
   ]
  },
  {
   "cell_type": "code",
   "execution_count": 253,
   "id": "9c912935-b306-4d7d-bd97-077b3702d2a8",
   "metadata": {},
   "outputs": [],
   "source": [
    "def recommend(song_list: list, df: pd.core.frame.DataFrame):\n",
    "    input = build_df(song_list, df)\n",
    "    distances, total_d = build_distances(input, df)\n",
    "    distances = pd.DataFrame(distances)\n",
    "    results = np.argpartition(total_d, k)[:k]\n",
    "    output = []\n",
    "    d = []\n",
    "    for i in results:\n",
    "        output.append(df.iloc[i])\n",
    "        d.append(total_d[i])\n",
    "    output_df = pd.DataFrame(output)\n",
    "    output_df = output_df[['artist_name', 'title','release']]\n",
    "    output_df['total distance'] = d\n",
    "    display(output_df)\n"
   ]
  },
  {
   "cell_type": "code",
   "execution_count": 256,
   "id": "b9bb301a-aaf0-4e68-994c-4faaaf21b992",
   "metadata": {},
   "outputs": [
    {
     "name": "stdout",
     "output_type": "stream",
     "text": [
      "['Special', 'Spend the Night featuring Rock Money and Paul Law', 'Moonlight Boy', 'I Want You Back', 'Stuff Like That', 'Cumberland Gap', \"He's A Rebel\", 'I Want Your Soul For Christmas', 'Banho De Amor', 'Lost Again']\n"
     ]
    },
    {
     "data": {
      "text/html": [
       "<div>\n",
       "<style scoped>\n",
       "    .dataframe tbody tr th:only-of-type {\n",
       "        vertical-align: middle;\n",
       "    }\n",
       "\n",
       "    .dataframe tbody tr th {\n",
       "        vertical-align: top;\n",
       "    }\n",
       "\n",
       "    .dataframe thead th {\n",
       "        text-align: right;\n",
       "    }\n",
       "</style>\n",
       "<table border=\"1\" class=\"dataframe\">\n",
       "  <thead>\n",
       "    <tr style=\"text-align: right;\">\n",
       "      <th></th>\n",
       "      <th>artist_name</th>\n",
       "      <th>title</th>\n",
       "      <th>release</th>\n",
       "      <th>total distance</th>\n",
       "    </tr>\n",
       "  </thead>\n",
       "  <tbody>\n",
       "    <tr>\n",
       "      <th>9011</th>\n",
       "      <td>Jackie Wilson</td>\n",
       "      <td>One Moment With You</td>\n",
       "      <td>Reet Petite</td>\n",
       "      <td>-20.448579</td>\n",
       "    </tr>\n",
       "    <tr>\n",
       "      <th>3190</th>\n",
       "      <td>Jackie Wilson</td>\n",
       "      <td>I'm Wanderin'</td>\n",
       "      <td>The Jackie Wilson Genesis</td>\n",
       "      <td>-21.626353</td>\n",
       "    </tr>\n",
       "    <tr>\n",
       "      <th>6994</th>\n",
       "      <td>Jackie Wilson</td>\n",
       "      <td>Each Time (I Love You More)</td>\n",
       "      <td>Lonely Teardrops</td>\n",
       "      <td>-21.270018</td>\n",
       "    </tr>\n",
       "    <tr>\n",
       "      <th>1312</th>\n",
       "      <td>Thomas Dolby</td>\n",
       "      <td>One Of Our Submarines</td>\n",
       "      <td>Premium Gold Collection</td>\n",
       "      <td>-19.923544</td>\n",
       "    </tr>\n",
       "    <tr>\n",
       "      <th>7992</th>\n",
       "      <td>Jackie Wilson</td>\n",
       "      <td>It's So Fine</td>\n",
       "      <td>Lonely Teardrops</td>\n",
       "      <td>-21.913683</td>\n",
       "    </tr>\n",
       "    <tr>\n",
       "      <th>4342</th>\n",
       "      <td>Jackie Wilson</td>\n",
       "      <td>If I Can't Have You</td>\n",
       "      <td>Lonely Teardrops</td>\n",
       "      <td>-21.113490</td>\n",
       "    </tr>\n",
       "    <tr>\n",
       "      <th>2164</th>\n",
       "      <td>John Hiatt</td>\n",
       "      <td>Memphis In The Meantime</td>\n",
       "      <td>Greatest Hits: The A&amp;M Years '87- '94</td>\n",
       "      <td>-19.943438</td>\n",
       "    </tr>\n",
       "    <tr>\n",
       "      <th>1212</th>\n",
       "      <td>Damone</td>\n",
       "      <td>Child Of The Night</td>\n",
       "      <td>Out Here All Night</td>\n",
       "      <td>-23.298317</td>\n",
       "    </tr>\n",
       "    <tr>\n",
       "      <th>8409</th>\n",
       "      <td>Jackie Wilson</td>\n",
       "      <td>Why Can't You Be Mine</td>\n",
       "      <td>Reet Petite</td>\n",
       "      <td>-20.599696</td>\n",
       "    </tr>\n",
       "    <tr>\n",
       "      <th>8585</th>\n",
       "      <td>Thomas Dolby</td>\n",
       "      <td>She Blinded Me With Science</td>\n",
       "      <td>Blinded By Science</td>\n",
       "      <td>-19.751479</td>\n",
       "    </tr>\n",
       "  </tbody>\n",
       "</table>\n",
       "</div>"
      ],
      "text/plain": [
       "        artist_name                        title  \\\n",
       "9011  Jackie Wilson          One Moment With You   \n",
       "3190  Jackie Wilson                I'm Wanderin'   \n",
       "6994  Jackie Wilson  Each Time (I Love You More)   \n",
       "1312   Thomas Dolby        One Of Our Submarines   \n",
       "7992  Jackie Wilson                 It's So Fine   \n",
       "4342  Jackie Wilson          If I Can't Have You   \n",
       "2164     John Hiatt      Memphis In The Meantime   \n",
       "1212         Damone           Child Of The Night   \n",
       "8409  Jackie Wilson        Why Can't You Be Mine   \n",
       "8585   Thomas Dolby  She Blinded Me With Science   \n",
       "\n",
       "                                    release  total distance  \n",
       "9011                            Reet Petite      -20.448579  \n",
       "3190              The Jackie Wilson Genesis      -21.626353  \n",
       "6994                       Lonely Teardrops      -21.270018  \n",
       "1312                Premium Gold Collection      -19.923544  \n",
       "7992                       Lonely Teardrops      -21.913683  \n",
       "4342                       Lonely Teardrops      -21.113490  \n",
       "2164  Greatest Hits: The A&M Years '87- '94      -19.943438  \n",
       "1212                     Out Here All Night      -23.298317  \n",
       "8409                            Reet Petite      -20.599696  \n",
       "8585                     Blinded By Science      -19.751479  "
      ]
     },
     "metadata": {},
     "output_type": "display_data"
    }
   ],
   "source": [
    "# TEST\n",
    "import random\n",
    "\n",
    "input = [str(data.iloc[j]['title']) for j in random.sample(range(len(data)), n)]\n",
    "recommend(input, data.copy())"
   ]
  },
  {
   "cell_type": "code",
   "execution_count": null,
   "id": "18e4d9bf-45a2-4e6d-a043-a90a7469fa31",
   "metadata": {},
   "outputs": [],
   "source": []
  }
 ],
 "metadata": {
  "kernelspec": {
   "display_name": "Python 3 (ipykernel)",
   "language": "python",
   "name": "python3"
  },
  "language_info": {
   "codemirror_mode": {
    "name": "ipython",
    "version": 3
   },
   "file_extension": ".py",
   "mimetype": "text/x-python",
   "name": "python",
   "nbconvert_exporter": "python",
   "pygments_lexer": "ipython3",
   "version": "3.11.3"
  }
 },
 "nbformat": 4,
 "nbformat_minor": 5
}
