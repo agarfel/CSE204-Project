{
 "cells": [
  {
   "cell_type": "markdown",
   "id": "af118e80-cd1c-488b-be7f-f617930d99d3",
   "metadata": {},
   "source": [
    "# Song recommender project #"
   ]
  },
  {
   "cell_type": "markdown",
   "id": "c3b0d1a7-a4ca-4666-8fbf-bce10fef4535",
   "metadata": {},
   "source": [
    " Garcinuño Feliciano Angela <br>\n",
    " Huima Klaara <br>\n",
    " Massot Lucas "
   ]
  },
  {
   "cell_type": "code",
   "execution_count": null,
   "id": "810f783f-37c8-4753-b852-1a7c7e77ceb8",
   "metadata": {},
   "outputs": [],
   "source": []
  },
  {
   "cell_type": "code",
   "execution_count": null,
   "id": "09ce1e1a-7fd1-4572-b76f-4c3f4ee4a995",
   "metadata": {},
   "outputs": [],
   "source": []
  },
  {
   "cell_type": "code",
   "execution_count": null,
   "id": "175b386e-32da-4fc4-9158-961c913140fa",
   "metadata": {},
   "outputs": [],
   "source": []
  }
 ],
 "metadata": {
  "kernelspec": {
   "display_name": "Python 3 (ipykernel)",
   "language": "python",
   "name": "python3"
  },
  "language_info": {
   "codemirror_mode": {
    "name": "ipython",
    "version": 3
   },
   "file_extension": ".py",
   "mimetype": "text/x-python",
   "name": "python",
   "nbconvert_exporter": "python",
   "pygments_lexer": "ipython3",
   "version": "3.11.3"
  }
 },
 "nbformat": 4,
 "nbformat_minor": 5
}
