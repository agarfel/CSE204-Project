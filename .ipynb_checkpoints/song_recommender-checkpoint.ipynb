{
 "cells": [
  {
   "cell_type": "markdown",
   "id": "af118e80-cd1c-488b-be7f-f617930d99d3",
   "metadata": {},
   "source": [
    "# Song recommender project #"
   ]
  },
  {
   "cell_type": "markdown",
   "id": "c3b0d1a7-a4ca-4666-8fbf-bce10fef4535",
   "metadata": {},
   "source": [
    " Garcinuño Feliciano Angela <br>\n",
    " Huima Klaara <br>\n",
    " Massot Lucas "
   ]
  },
  {
   "cell_type": "code",
   "execution_count": 8,
   "id": "810f783f-37c8-4753-b852-1a7c7e77ceb8",
   "metadata": {},
   "outputs": [],
   "source": [
    "import pandas as pd\n",
    "import numpy as np\n",
    "import build\n",
    "import random"
   ]
  },
  {
   "cell_type": "code",
   "execution_count": 9,
   "id": "7d335c66-d56b-4dea-8c00-e949f3627d43",
   "metadata": {},
   "outputs": [],
   "source": [
    "# Settings\n",
    "k = 10 #number of songs to recommend\n",
    "n = 10 #length of input playlist\n",
    "\n"
   ]
  },
  {
   "cell_type": "code",
   "execution_count": 10,
   "id": "91470b26-ca48-45b6-b29e-369c2a439d98",
   "metadata": {},
   "outputs": [],
   "source": [
    "data = build.load_data('output.csv')"
   ]
  },
  {
   "cell_type": "code",
   "execution_count": 11,
   "id": "9c912935-b306-4d7d-bd97-077b3702d2a8",
   "metadata": {},
   "outputs": [],
   "source": [
    "def recommend(song_list: list, df: pd.core.frame.DataFrame, k: int, distance_matrix = None):\n",
    "    playlist, indexes = build.format_input(song_list, df)\n",
    "    if isinstance(distance_matrix, type(None)):\n",
    "        distances, total_d = build.compute_distance_to_playlist(playlist, indexes, df)\n",
    "    else:\n",
    "        distances, total_d = build.select_distance_to_playlist(playlist, indexes, distance_matrix)        \n",
    "    #display(pd.DataFrame(distances))\n",
    "    output_df = build.get_k_recommendations(total_d, k, df)\n",
    "    display(output_df)"
   ]
  },
  {
   "cell_type": "code",
   "execution_count": 13,
   "id": "b9bb301a-aaf0-4e68-994c-4faaaf21b992",
   "metadata": {},
   "outputs": [
    {
     "data": {
      "text/html": [
       "<div>\n",
       "<style scoped>\n",
       "    .dataframe tbody tr th:only-of-type {\n",
       "        vertical-align: middle;\n",
       "    }\n",
       "\n",
       "    .dataframe tbody tr th {\n",
       "        vertical-align: top;\n",
       "    }\n",
       "\n",
       "    .dataframe thead th {\n",
       "        text-align: right;\n",
       "    }\n",
       "</style>\n",
       "<table border=\"1\" class=\"dataframe\">\n",
       "  <thead>\n",
       "    <tr style=\"text-align: right;\">\n",
       "      <th></th>\n",
       "      <th>artist_name</th>\n",
       "      <th>title</th>\n",
       "      <th>release</th>\n",
       "      <th>total distance</th>\n",
       "    </tr>\n",
       "  </thead>\n",
       "  <tbody>\n",
       "    <tr>\n",
       "      <th>47</th>\n",
       "      <td>John Hammond</td>\n",
       "      <td>I Can't Be Satisfied</td>\n",
       "      <td>Bluesman</td>\n",
       "      <td>-38.650360</td>\n",
       "    </tr>\n",
       "    <tr>\n",
       "      <th>30</th>\n",
       "      <td>Terry Callier</td>\n",
       "      <td>Do You Finally Need A Friend</td>\n",
       "      <td>Occasional Rain</td>\n",
       "      <td>-73.326336</td>\n",
       "    </tr>\n",
       "    <tr>\n",
       "      <th>29</th>\n",
       "      <td>Faye Adams</td>\n",
       "      <td>Crazy Mixed Up World</td>\n",
       "      <td>Shake A Hand</td>\n",
       "      <td>-73.231547</td>\n",
       "    </tr>\n",
       "    <tr>\n",
       "      <th>3</th>\n",
       "      <td>Adam Ant</td>\n",
       "      <td>Something Girls</td>\n",
       "      <td>Friend Or Foe</td>\n",
       "      <td>-42.118816</td>\n",
       "    </tr>\n",
       "    <tr>\n",
       "      <th>41</th>\n",
       "      <td>The Suicide Machines</td>\n",
       "      <td>Burning In The Aftermath</td>\n",
       "      <td>A Match &amp; Some Gasoline</td>\n",
       "      <td>-49.059493</td>\n",
       "    </tr>\n",
       "    <tr>\n",
       "      <th>43</th>\n",
       "      <td>Roberto Torres</td>\n",
       "      <td>Sabor Guajiro</td>\n",
       "      <td>Lo Mejor con La Orq. Broadway</td>\n",
       "      <td>-36.352630</td>\n",
       "    </tr>\n",
       "    <tr>\n",
       "      <th>18</th>\n",
       "      <td>Tesla</td>\n",
       "      <td>Caught In A Dream</td>\n",
       "      <td>Gold</td>\n",
       "      <td>-50.501222</td>\n",
       "    </tr>\n",
       "    <tr>\n",
       "      <th>27</th>\n",
       "      <td>Tim Wilson</td>\n",
       "      <td>I Think My Wife Is Running Around On Me (Taco ...</td>\n",
       "      <td>The Real Twang Thang</td>\n",
       "      <td>-48.515483</td>\n",
       "    </tr>\n",
       "    <tr>\n",
       "      <th>13</th>\n",
       "      <td>Bob Azzam</td>\n",
       "      <td>Auguri Cha Cha</td>\n",
       "      <td>Arrivederci</td>\n",
       "      <td>-38.456922</td>\n",
       "    </tr>\n",
       "    <tr>\n",
       "      <th>15</th>\n",
       "      <td>Blue Rodeo</td>\n",
       "      <td>Floating</td>\n",
       "      <td>Outskirts</td>\n",
       "      <td>-31.052987</td>\n",
       "    </tr>\n",
       "  </tbody>\n",
       "</table>\n",
       "</div>"
      ],
      "text/plain": [
       "             artist_name                                              title  \\\n",
       "47          John Hammond                               I Can't Be Satisfied   \n",
       "30         Terry Callier                       Do You Finally Need A Friend   \n",
       "29            Faye Adams                               Crazy Mixed Up World   \n",
       "3               Adam Ant                                    Something Girls   \n",
       "41  The Suicide Machines                           Burning In The Aftermath   \n",
       "43        Roberto Torres                                      Sabor Guajiro   \n",
       "18                 Tesla                                  Caught In A Dream   \n",
       "27            Tim Wilson  I Think My Wife Is Running Around On Me (Taco ...   \n",
       "13             Bob Azzam                                     Auguri Cha Cha   \n",
       "15            Blue Rodeo                                           Floating   \n",
       "\n",
       "                          release  total distance  \n",
       "47                       Bluesman      -38.650360  \n",
       "30                Occasional Rain      -73.326336  \n",
       "29                   Shake A Hand      -73.231547  \n",
       "3                   Friend Or Foe      -42.118816  \n",
       "41        A Match & Some Gasoline      -49.059493  \n",
       "43  Lo Mejor con La Orq. Broadway      -36.352630  \n",
       "18                           Gold      -50.501222  \n",
       "27           The Real Twang Thang      -48.515483  \n",
       "13                    Arrivederci      -38.456922  \n",
       "15                      Outskirts      -31.052987  "
      ]
     },
     "metadata": {},
     "output_type": "display_data"
    }
   ],
   "source": [
    "# TEST\n",
    "input = [str(data.iloc[j]['title']) for j in random.sample(range(len(data)), n)]   # input of song titles\n",
    "#input = [str(data.iloc[i]['title']) for i in range(10)]\n",
    "k = 10 #number of song recomendations\n",
    "\n",
    "\n",
    "# Computing complete distance matrix\n",
    "\n",
    "#distance_matrix = pd.DataFrame(build.build_distances(data))\n",
    "#recommend(input, data, k, distance_matrix)\n",
    "\n",
    "\n",
    "# Computing only distance to playlist\n",
    "recommend(input, data, k)"
   ]
  },
  {
   "cell_type": "code",
   "execution_count": null,
   "id": "20e81667-acea-4f72-81f2-6b77eb4a551e",
   "metadata": {},
   "outputs": [],
   "source": []
  },
  {
   "cell_type": "code",
   "execution_count": null,
   "id": "4475e2da-b5f1-4ab5-ab23-486e5492cfff",
   "metadata": {},
   "outputs": [],
   "source": []
  }
 ],
 "metadata": {
  "kernelspec": {
   "display_name": "Python 3 (ipykernel)",
   "language": "python",
   "name": "python3"
  },
  "language_info": {
   "codemirror_mode": {
    "name": "ipython",
    "version": 3
   },
   "file_extension": ".py",
   "mimetype": "text/x-python",
   "name": "python",
   "nbconvert_exporter": "python",
   "pygments_lexer": "ipython3",
   "version": "3.11.3"
  }
 },
 "nbformat": 4,
 "nbformat_minor": 5
}
