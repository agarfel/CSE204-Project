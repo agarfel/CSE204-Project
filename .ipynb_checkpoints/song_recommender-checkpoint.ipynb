{
 "cells": [
  {
   "cell_type": "markdown",
   "id": "af118e80-cd1c-488b-be7f-f617930d99d3",
   "metadata": {},
   "source": [
    "# Song recommender project #"
   ]
  },
  {
   "cell_type": "markdown",
   "id": "c3b0d1a7-a4ca-4666-8fbf-bce10fef4535",
   "metadata": {},
   "source": [
    " Garcinuño Feliciano Angela <br>\n",
    " Huima Klaara <br>\n",
    " Massot Lucas "
   ]
  },
  {
   "cell_type": "code",
   "execution_count": 6,
   "id": "810f783f-37c8-4753-b852-1a7c7e77ceb8",
   "metadata": {},
   "outputs": [],
   "source": [
    "import pandas as pd\n",
    "import numpy as np\n",
    "import build\n",
    "import random"
   ]
  },
  {
   "cell_type": "code",
   "execution_count": 7,
   "id": "a7204141-4b47-4a3f-b22f-0489b90dd013",
   "metadata": {
    "scrolled": true
   },
   "outputs": [],
   "source": [
    "data = build.load_data('output.csv')"
   ]
  },
  {
   "cell_type": "code",
   "execution_count": 8,
   "id": "9c912935-b306-4d7d-bd97-077b3702d2a8",
   "metadata": {},
   "outputs": [],
   "source": [
    "def recommend(song_list: list, df: pd.core.frame.DataFrame, k: int, distance_matrix = None):\n",
    "    playlist, indexes = build.format_input(song_list, df)\n",
    "    if isinstance(distance_matrix, type(None)):\n",
    "        distances, total_d = build.compute_distance_to_playlist(playlist, indexes, df)\n",
    "    else:\n",
    "        distances, total_d = build.select_distance_to_playlist(playlist, indexes, distance_matrix)        \n",
    "    #display(pd.DataFrame(distances))\n",
    "    output_df = build.get_k_recommendations(total_d, k, df)\n",
    "    display(output_df)"
   ]
  },
  {
   "cell_type": "code",
   "execution_count": 9,
   "id": "b9bb301a-aaf0-4e68-994c-4faaaf21b992",
   "metadata": {},
   "outputs": [
    {
     "data": {
      "text/html": [
       "<div>\n",
       "<style scoped>\n",
       "    .dataframe tbody tr th:only-of-type {\n",
       "        vertical-align: middle;\n",
       "    }\n",
       "\n",
       "    .dataframe tbody tr th {\n",
       "        vertical-align: top;\n",
       "    }\n",
       "\n",
       "    .dataframe thead th {\n",
       "        text-align: right;\n",
       "    }\n",
       "</style>\n",
       "<table border=\"1\" class=\"dataframe\">\n",
       "  <thead>\n",
       "    <tr style=\"text-align: right;\">\n",
       "      <th></th>\n",
       "      <th>artist_name</th>\n",
       "      <th>title</th>\n",
       "      <th>release</th>\n",
       "      <th>total distance</th>\n",
       "    </tr>\n",
       "  </thead>\n",
       "  <tbody>\n",
       "    <tr>\n",
       "      <th>48</th>\n",
       "      <td>Casiotone For The Painfully Alone</td>\n",
       "      <td>Nashville Parthenon</td>\n",
       "      <td>Etiquette</td>\n",
       "      <td>-6.741003</td>\n",
       "    </tr>\n",
       "    <tr>\n",
       "      <th>30</th>\n",
       "      <td>Terry Callier</td>\n",
       "      <td>Do You Finally Need A Friend</td>\n",
       "      <td>Occasional Rain</td>\n",
       "      <td>-7.916531</td>\n",
       "    </tr>\n",
       "    <tr>\n",
       "      <th>32</th>\n",
       "      <td>The Shangri-Las</td>\n",
       "      <td>Twist and Shout</td>\n",
       "      <td>Best of The Shangri-Las</td>\n",
       "      <td>-10.719270</td>\n",
       "    </tr>\n",
       "    <tr>\n",
       "      <th>55</th>\n",
       "      <td>Chris Rea</td>\n",
       "      <td>Driving Home For Christmas</td>\n",
       "      <td>The Road To Hell Part 2</td>\n",
       "      <td>-9.873379</td>\n",
       "    </tr>\n",
       "    <tr>\n",
       "      <th>47</th>\n",
       "      <td>John Hammond</td>\n",
       "      <td>I Can't Be Satisfied</td>\n",
       "      <td>Bluesman</td>\n",
       "      <td>-7.538356</td>\n",
       "    </tr>\n",
       "    <tr>\n",
       "      <th>13</th>\n",
       "      <td>Bob Azzam</td>\n",
       "      <td>Auguri Cha Cha</td>\n",
       "      <td>Arrivederci</td>\n",
       "      <td>-6.810127</td>\n",
       "    </tr>\n",
       "    <tr>\n",
       "      <th>81</th>\n",
       "      <td>Emperor</td>\n",
       "      <td>Opus a Satana (Part 2)</td>\n",
       "      <td>Live Inferno</td>\n",
       "      <td>-14.549731</td>\n",
       "    </tr>\n",
       "    <tr>\n",
       "      <th>15</th>\n",
       "      <td>Blue Rodeo</td>\n",
       "      <td>Floating</td>\n",
       "      <td>Outskirts</td>\n",
       "      <td>-5.849909</td>\n",
       "    </tr>\n",
       "    <tr>\n",
       "      <th>24</th>\n",
       "      <td>SUE THOMPSON</td>\n",
       "      <td>James (Hold The Ladder Steady)</td>\n",
       "      <td>Sue Thompson - Her Very Best</td>\n",
       "      <td>-5.467201</td>\n",
       "    </tr>\n",
       "    <tr>\n",
       "      <th>4</th>\n",
       "      <td>Gob</td>\n",
       "      <td>Face the Ashes</td>\n",
       "      <td>Muertos Vivos</td>\n",
       "      <td>-4.168138</td>\n",
       "    </tr>\n",
       "  </tbody>\n",
       "</table>\n",
       "</div>"
      ],
      "text/plain": [
       "                          artist_name                           title  \\\n",
       "48  Casiotone For The Painfully Alone             Nashville Parthenon   \n",
       "30                      Terry Callier    Do You Finally Need A Friend   \n",
       "32                    The Shangri-Las                 Twist and Shout   \n",
       "55                          Chris Rea      Driving Home For Christmas   \n",
       "47                       John Hammond            I Can't Be Satisfied   \n",
       "13                          Bob Azzam                  Auguri Cha Cha   \n",
       "81                            Emperor          Opus a Satana (Part 2)   \n",
       "15                         Blue Rodeo                        Floating   \n",
       "24                       SUE THOMPSON  James (Hold The Ladder Steady)   \n",
       "4                                 Gob                  Face the Ashes   \n",
       "\n",
       "                         release  total distance  \n",
       "48                     Etiquette       -6.741003  \n",
       "30               Occasional Rain       -7.916531  \n",
       "32       Best of The Shangri-Las      -10.719270  \n",
       "55       The Road To Hell Part 2       -9.873379  \n",
       "47                      Bluesman       -7.538356  \n",
       "13                   Arrivederci       -6.810127  \n",
       "81                  Live Inferno      -14.549731  \n",
       "15                     Outskirts       -5.849909  \n",
       "24  Sue Thompson - Her Very Best       -5.467201  \n",
       "4                  Muertos Vivos       -4.168138  "
      ]
     },
     "metadata": {},
     "output_type": "display_data"
    }
   ],
   "source": [
    "# TEST\n",
    "n = 5\n",
    "input = [[str(data.iloc[j]['title'], str(data.iloc[j]['artist_name']]) for j in random.sample(range(len(data)), n)]   # input of song titles\n",
    "#input = [str(data.iloc[i]['title']) for i in range(10)]\n",
    "k = 10 #number of song recomendations\n",
    "\n",
    "\n",
    "# Computing complete distance matrix\n",
    "\n",
    "#distance_matrix = pd.DataFrame(build.build_distances(data))\n",
    "#recommend(input, data, k, distance_matrix)\n",
    "\n",
    "\n",
    "# Computing only distance to playlist\n",
    "recommend(input, data, k)"
   ]
  }
 ],
 "metadata": {
  "kernelspec": {
   "display_name": "Python 3 (ipykernel)",
   "language": "python",
   "name": "python3"
  },
  "language_info": {
   "codemirror_mode": {
    "name": "ipython",
    "version": 3
   },
   "file_extension": ".py",
   "mimetype": "text/x-python",
   "name": "python",
   "nbconvert_exporter": "python",
   "pygments_lexer": "ipython3",
   "version": "3.11.3"
  }
 },
 "nbformat": 4,
 "nbformat_minor": 5
}
